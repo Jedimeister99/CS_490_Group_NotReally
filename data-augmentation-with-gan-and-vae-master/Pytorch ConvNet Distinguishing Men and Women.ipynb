{
 "cells": [
  {
   "cell_type": "markdown",
   "metadata": {},
   "source": [
    "# Pytorch Convolutional Neural Network"
   ]
  },
  {
   "cell_type": "markdown",
   "metadata": {},
   "source": [
    "<img src='https://miro.medium.com/max/3288/1*uAeANQIOQPqWZnnuH-VEyw.jpeg'   width=\"700\" height=\"350\">"
   ]
  },
  {
   "cell_type": "markdown",
   "metadata": {},
   "source": [
    "##### Importing libraries"
   ]
  },
  {
   "cell_type": "code",
   "execution_count": 121,
   "metadata": {},
   "outputs": [],
   "source": [
    "import numpy as np\n",
    "import matplotlib.pyplot as plt\n",
    "from glob import glob\n",
    "from PIL import Image\n",
    "import pandas as pd\n",
    "from time import time\n",
    "from sklearn.model_selection import train_test_split\n",
    "import torch\n",
    "import torch.nn as nn\n",
    "import torch.nn.functional as F\n",
    "import torch.optim as optim\n",
    "from torch.utils.data import DataLoader\n",
    "from torch.autograd import Variable\n",
    "import os\n",
    "os.chdir('c:/users/nicolas/documents/data/faces')"
   ]
  },
  {
   "cell_type": "markdown",
   "metadata": {},
   "source": [
    "##### Loading all file names"
   ]
  },
  {
   "cell_type": "code",
   "execution_count": 122,
   "metadata": {},
   "outputs": [],
   "source": [
    "files = glob('combined/*.jpg')\n",
    "files = np.random.permutation(files)"
   ]
  },
  {
   "cell_type": "code",
   "execution_count": 123,
   "metadata": {},
   "outputs": [
    {
     "data": {
      "text/plain": [
       "array(['combined\\\\63_1_0_20170110132501568.jpg.chip.jpg',\n",
       "       'combined\\\\1_1_4_20161221193743543.jpg.chip.jpg',\n",
       "       'combined\\\\20_0_1_20170113132730457.jpg.chip.jpg',\n",
       "       'combined\\\\31_1_0_20170103182729649.jpg.chip.jpg',\n",
       "       'combined\\\\59_1_0_20170110160643688.jpg.chip.jpg'], dtype='<U47')"
      ]
     },
     "execution_count": 123,
     "metadata": {},
     "output_type": "execute_result"
    }
   ],
   "source": [
    "files[:5]"
   ]
  },
  {
   "cell_type": "markdown",
   "metadata": {},
   "source": [
    "##### Keeping all correctly formatted labels"
   ]
  },
  {
   "cell_type": "code",
   "execution_count": 124,
   "metadata": {},
   "outputs": [
    {
     "data": {
      "text/html": [
       "<div>\n",
       "<style scoped>\n",
       "    .dataframe tbody tr th:only-of-type {\n",
       "        vertical-align: middle;\n",
       "    }\n",
       "\n",
       "    .dataframe tbody tr th {\n",
       "        vertical-align: top;\n",
       "    }\n",
       "\n",
       "    .dataframe thead th {\n",
       "        text-align: right;\n",
       "    }\n",
       "</style>\n",
       "<table border=\"1\" class=\"dataframe\">\n",
       "  <thead>\n",
       "    <tr style=\"text-align: right;\">\n",
       "      <th></th>\n",
       "      <th>Value</th>\n",
       "      <th>Çount</th>\n",
       "    </tr>\n",
       "  </thead>\n",
       "  <tbody>\n",
       "    <tr>\n",
       "      <td>0</td>\n",
       "      <td>0</td>\n",
       "      <td>12387</td>\n",
       "    </tr>\n",
       "    <tr>\n",
       "      <td>1</td>\n",
       "      <td>1</td>\n",
       "      <td>11316</td>\n",
       "    </tr>\n",
       "    <tr>\n",
       "      <td>2</td>\n",
       "      <td>9</td>\n",
       "      <td>1</td>\n",
       "    </tr>\n",
       "    <tr>\n",
       "      <td>3</td>\n",
       "      <td>_</td>\n",
       "      <td>5</td>\n",
       "    </tr>\n",
       "  </tbody>\n",
       "</table>\n",
       "</div>"
      ],
      "text/plain": [
       "  Value  Çount\n",
       "0     0  12387\n",
       "1     1  11316\n",
       "2     9      1\n",
       "3     _      5"
      ]
     },
     "execution_count": 124,
     "metadata": {},
     "output_type": "execute_result"
    }
   ],
   "source": [
    "df = pd.DataFrame(np.unique([i[-34] for i in files], return_counts=True)).T\n",
    "df.columns = ['Value', 'Count']\n",
    "df"
   ]
  },
  {
   "cell_type": "markdown",
   "metadata": {},
   "source": [
    "##### Keeping only men/women (not both)"
   ]
  },
  {
   "cell_type": "code",
   "execution_count": 125,
   "metadata": {},
   "outputs": [],
   "source": [
    "faces = [i for i in files if (i[-34] in ('0', '1')) and len(i[-37:-35].strip('\\\\').strip('d'))  == 2 ]"
   ]
  },
  {
   "cell_type": "code",
   "execution_count": 126,
   "metadata": {},
   "outputs": [],
   "source": [
    "y = [i[-34] for i in files if (i[-34] in ('0', '1')) and len(i[-37:-35].strip('\\\\').strip('d')) > 1 ]"
   ]
  },
  {
   "cell_type": "code",
   "execution_count": 127,
   "metadata": {},
   "outputs": [],
   "source": [
    "sex = ['men', 'women']"
   ]
  },
  {
   "cell_type": "code",
   "execution_count": 128,
   "metadata": {},
   "outputs": [],
   "source": [
    "assert len(y) == len(faces), 'The X and Y are not of the same length!'"
   ]
  },
  {
   "cell_type": "markdown",
   "metadata": {},
   "source": [
    "#### Getting shape info"
   ]
  },
  {
   "cell_type": "code",
   "execution_count": 129,
   "metadata": {},
   "outputs": [],
   "source": [
    "# nrow, ncol, nchan = 200, 200, 3\n",
    "nrow, ncol, nchan = 60, 60, 3"
   ]
  },
  {
   "cell_type": "markdown",
   "metadata": {},
   "source": [
    "#### This is the shape width/height"
   ]
  },
  {
   "cell_type": "code",
   "execution_count": 130,
   "metadata": {},
   "outputs": [],
   "source": [
    "dim = 60"
   ]
  },
  {
   "cell_type": "markdown",
   "metadata": {},
   "source": [
    "#### Cropping function"
   ]
  },
  {
   "cell_type": "code",
   "execution_count": 131,
   "metadata": {},
   "outputs": [],
   "source": [
    "def crop(img):\n",
    "    if img.shape[0]<img.shape[1]:\n",
    "        x = img.shape[0]\n",
    "        y = img.shape[1]\n",
    "        crop_img = img[: , int(y/2-x/2):int(y/2+x/2)]\n",
    "    else:\n",
    "        x = img.shape[1]\n",
    "        y = img.shape[0]\n",
    "        crop_img = img[int(y/2-x/2):int(y/2+x/2) , :]\n",
    "\n",
    "    return crop_img"
   ]
  },
  {
   "cell_type": "markdown",
   "metadata": {},
   "source": [
    "##### Loading and cropping images"
   ]
  },
  {
   "cell_type": "code",
   "execution_count": 132,
   "metadata": {},
   "outputs": [
    {
     "name": "stdout",
     "output_type": "stream",
     "text": [
      "Done. 14 seconds\n"
     ]
    }
   ],
   "source": [
    "print('Scaling...', end='')\n",
    "start = time()\n",
    "x = []\n",
    "num_to_load = len(faces)\n",
    "for ix, file in enumerate(faces[:num_to_load]): \n",
    "    image = plt.imread(file, 'jpg')\n",
    "    image = Image.fromarray(image).resize((dim, dim)).convert('L')\n",
    "    image = crop(np.array(image))\n",
    "    x.append(image)\n",
    "print(f'\\rDone. {int(time() - start)} seconds')\n",
    "y = y[:num_to_load]"
   ]
  },
  {
   "cell_type": "markdown",
   "metadata": {},
   "source": [
    "##### Turning the pictures into arrays"
   ]
  },
  {
   "cell_type": "code",
   "execution_count": 133,
   "metadata": {},
   "outputs": [],
   "source": [
    "x = np.array(x, dtype=np.float32)\n",
    "y = np.array(y, dtype=np.float32)"
   ]
  },
  {
   "cell_type": "code",
   "execution_count": 134,
   "metadata": {},
   "outputs": [
    {
     "name": "stdout",
     "output_type": "stream",
     "text": [
      "(20638, 60, 60)\n"
     ]
    }
   ],
   "source": [
    "assert x.shape[1] == dim\n",
    "print(x.shape)"
   ]
  },
  {
   "cell_type": "code",
   "execution_count": 135,
   "metadata": {},
   "outputs": [
    {
     "name": "stdout",
     "output_type": "stream",
     "text": [
      "X and Y shapes are correct! (20638 samples each)\n"
     ]
    }
   ],
   "source": [
    "if x.shape[0] == y.shape[0]:\n",
    "    print('X and Y shapes are correct! (%i samples each)' % x.shape[0])"
   ]
  },
  {
   "cell_type": "code",
   "execution_count": 136,
   "metadata": {},
   "outputs": [],
   "source": [
    "assert x.ndim == 3"
   ]
  },
  {
   "cell_type": "code",
   "execution_count": 137,
   "metadata": {},
   "outputs": [],
   "source": [
    "yy, xx = y.nbytes, x.nbytes"
   ]
  },
  {
   "cell_type": "code",
   "execution_count": 138,
   "metadata": {},
   "outputs": [
    {
     "name": "stdout",
     "output_type": "stream",
     "text": [
      "The size of X is 297,187,200 bytes and the size of Y is 82,552 bytes.\n"
     ]
    }
   ],
   "source": [
    "print(f'The size of X is {xx:,} bytes and the size of Y is {yy:,} bytes.')"
   ]
  },
  {
   "cell_type": "code",
   "execution_count": 139,
   "metadata": {},
   "outputs": [
    {
     "name": "stdout",
     "output_type": "stream",
     "text": [
      "The size of the data we are using is 20,638 pictures.\n"
     ]
    }
   ],
   "source": [
    "print(f'The size of the data we are using is {x.shape[0]:,} pictures.')"
   ]
  },
  {
   "cell_type": "code",
   "execution_count": 140,
   "metadata": {},
   "outputs": [],
   "source": [
    "files, faces = None, None"
   ]
  },
  {
   "cell_type": "markdown",
   "metadata": {},
   "source": [
    "##### Displaying the pictures"
   ]
  },
  {
   "cell_type": "code",
   "execution_count": 141,
   "metadata": {},
   "outputs": [
    {
     "data": {
      "image/png": "[encoded data removed]",
      "text/plain": [
       "<Figure size 864x864 with 4 Axes>"
      ]
     },
     "metadata": {},
     "output_type": "display_data"
    }
   ],
   "source": [
    "np.random.seed(42)\n",
    "rand = np.random.randint(x.shape[0])\n",
    "fig = plt.figure(figsize=(12, 12))\n",
    "for i in range(1, 5):\n",
    "    plt.subplot(1, 5, i)\n",
    "    rand = np.random.randint(10)\n",
    "    ax = plt.imshow(x[rand], cmap='gray')\n",
    "    plt.title('<{}>'.format(sex[int(y[rand])].capitalize()))\n",
    "    yticks = plt.xticks([])\n",
    "    yticks = plt.yticks([])"
   ]
  },
  {
   "cell_type": "markdown",
   "metadata": {},
   "source": [
    "##### Cross-validation"
   ]
  },
  {
   "cell_type": "code",
   "execution_count": 142,
   "metadata": {},
   "outputs": [],
   "source": [
    "x_train, x_test, y_train, y_test = train_test_split(x, y, test_size=2e-1, \n",
    "                                                    shuffle=True)"
   ]
  },
  {
   "cell_type": "code",
   "execution_count": 143,
   "metadata": {},
   "outputs": [
    {
     "name": "stdout",
     "output_type": "stream",
     "text": [
      "The size of the training set is 16,510 and the size of the test set is 4,128.\n"
     ]
    }
   ],
   "source": [
    "trainsize, testsize = x_train.shape[0], x_test.shape[0]\n",
    "print(f'The size of the training set is {trainsize:,} and the '\\\n",
    "     f'size of the test set is {testsize:,}.')"
   ]
  },
  {
   "cell_type": "markdown",
   "metadata": {},
   "source": [
    "##### Scaling, casting the arrays"
   ]
  },
  {
   "cell_type": "code",
   "execution_count": 144,
   "metadata": {},
   "outputs": [
    {
     "name": "stdout",
     "output_type": "stream",
     "text": [
      "Done.     \n"
     ]
    }
   ],
   "source": [
    "print('Scaling...', end='')\n",
    "image_size = x_train.shape[1] * x_train.shape[1] \n",
    "x_train = x_train.reshape(-1, 1, dim, dim).astype('float32') / 255 \n",
    "x_test = x_test.reshape(-1, 1, dim, dim).astype('float32') / 255\n",
    "y_train = y_train.astype('int64')\n",
    "y_test = y_test.astype('int64')\n",
    "print('\\rDone.     ')"
   ]
  },
  {
   "cell_type": "code",
   "execution_count": 145,
   "metadata": {},
   "outputs": [
    {
     "name": "stdout",
     "output_type": "stream",
     "text": [
      "First dimension: 16510 \n",
      "Second dimension: 1 \n",
      "Third dimension: 60 \n",
      "Fourth dimension: 60\n"
     ]
    }
   ],
   "source": [
    "samples, first, second, third = x_train.shape\n",
    "print('First dimension: %i' % samples,\n",
    "     '\\nSecond dimension: %i' % first,\n",
    "     '\\nThird dimension: %i' % second,\n",
    "     '\\nFourth dimension: %i' % third)"
   ]
  },
  {
   "cell_type": "markdown",
   "metadata": {},
   "source": [
    "##### Sending the arrays to Cuda"
   ]
  },
  {
   "cell_type": "code",
   "execution_count": 146,
   "metadata": {},
   "outputs": [
    {
     "name": "stdout",
     "output_type": "stream",
     "text": [
      "Tensors successfully flushed to CUDA.\n"
     ]
    }
   ],
   "source": [
    "if torch.cuda.is_available():\n",
    "    x_train = torch.from_numpy(x_train) \n",
    "    x_test = torch.from_numpy(x_test) \n",
    "    y_train = torch.from_numpy(y_train) \n",
    "    y_test = torch.from_numpy(y_test)\n",
    "    print('Tensors successfully flushed to CUDA.')\n",
    "else:\n",
    "    print('CUDA not available!')"
   ]
  },
  {
   "cell_type": "markdown",
   "metadata": {},
   "source": [
    "##### Clearning memory"
   ]
  },
  {
   "cell_type": "code",
   "execution_count": 147,
   "metadata": {},
   "outputs": [],
   "source": [
    "x, y = None, None"
   ]
  },
  {
   "cell_type": "markdown",
   "metadata": {},
   "source": [
    "##### Building the ConvNet"
   ]
  },
  {
   "cell_type": "markdown",
   "metadata": {},
   "source": [
    "Initially image size, W = 60 <br>\n",
    "Kernel Size, k = 3 <br>\n",
    "Stride , s = 1 <br>\n",
    "Padding, P = 0 <br>\n",
    "The formula for the number of outputs to the next layer of conv2d is: O = { (W - k + 2*P)/s } + 1"
   ]
  },
  {
   "cell_type": "code",
   "execution_count": 148,
   "metadata": {},
   "outputs": [],
   "source": [
    "class ConvNet(nn.Module):\n",
    "    \n",
    "    def __init__(self):\n",
    "        super().__init__()\n",
    "        a = 32 #* 4\n",
    "        b = 64 #* 4\n",
    "        c = 128 #* 4\n",
    "        self.conv1 = nn.Conv2d(1, a, 3)\n",
    "        self.conv2 = nn.Conv2d(a, b, 3)\n",
    "        self.conv3 = nn.Conv2d(b, c, 3)\n",
    "        \n",
    "        self.fc1 = nn.Linear(5*5*c, 1024) \n",
    "        self.fc2 = nn.Linear(1024, 2048)\n",
    "        self.fc3 = nn.Linear(2048, 2)\n",
    "    \n",
    "    def forward(self, x):\n",
    "        x = F.max_pool2d(F.relu(self.conv1(x)), (2, 2))\n",
    "        x = F.max_pool2d(F.relu(self.conv2(x)), (2, 2))\n",
    "        x = F.max_pool2d(F.relu(self.conv3(x)), (2, 2))\n",
    "        \n",
    "        x = x.view(x.size(0), -1) \n",
    "        x = F.relu(self.fc1(x))\n",
    "        x = F.relu(self.fc2(x))\n",
    "        x = F.dropout(x, 0.5)\n",
    "        x = self.fc3(x)\n",
    "        return x"
   ]
  },
  {
   "cell_type": "code",
   "execution_count": 149,
   "metadata": {},
   "outputs": [],
   "source": [
    "net = ConvNet()"
   ]
  },
  {
   "cell_type": "code",
   "execution_count": 150,
   "metadata": {},
   "outputs": [],
   "source": [
    "if torch.cuda.is_available():\n",
    "    net.cuda()"
   ]
  },
  {
   "cell_type": "code",
   "execution_count": 151,
   "metadata": {},
   "outputs": [],
   "source": [
    "optimizer = optim.Adam(net.parameters(), lr=0.001)"
   ]
  },
  {
   "cell_type": "code",
   "execution_count": 152,
   "metadata": {},
   "outputs": [],
   "source": [
    "loss_function = nn.CrossEntropyLoss()"
   ]
  },
  {
   "cell_type": "markdown",
   "metadata": {},
   "source": [
    "##### Instantiating the data"
   ]
  },
  {
   "cell_type": "code",
   "execution_count": 153,
   "metadata": {},
   "outputs": [],
   "source": [
    "class FaceTrain():\n",
    "    \n",
    "    def __init__(self):\n",
    "        self.len = x_train.shape[0]\n",
    "        self.x_train = x_train\n",
    "        self.y_train = y_train\n",
    "        \n",
    "    def __getitem__(self, index):\n",
    "        return x_train[index], y_train[index]#.unsqueeze(0)\n",
    "    \n",
    "    def __len__(self):\n",
    "        return self.len"
   ]
  },
  {
   "cell_type": "code",
   "execution_count": 154,
   "metadata": {},
   "outputs": [],
   "source": [
    "class FaceTest():\n",
    "    \n",
    "    def __init__(self):\n",
    "        self.len = x_test.shape[0]\n",
    "        self.x_test = x_test\n",
    "        self.y_test = y_test\n",
    "        \n",
    "    def __getitem__(self, index):\n",
    "        return x_test[index], y_test[index]#.unsqueeze(0)\n",
    "    \n",
    "    def __len__(self):\n",
    "        return self.len"
   ]
  },
  {
   "cell_type": "markdown",
   "metadata": {},
   "source": [
    "##### Making instances of the data"
   ]
  },
  {
   "cell_type": "code",
   "execution_count": 155,
   "metadata": {},
   "outputs": [],
   "source": [
    "train = FaceTrain()\n",
    "test = FaceTest()"
   ]
  },
  {
   "cell_type": "markdown",
   "metadata": {},
   "source": [
    "##### Making data iterator"
   ]
  },
  {
   "cell_type": "code",
   "execution_count": 156,
   "metadata": {},
   "outputs": [],
   "source": [
    "train_loader = DataLoader(dataset=train, batch_size=64, shuffle=True)\n",
    "test_loader = DataLoader(dataset=test, batch_size=64, shuffle=True)"
   ]
  },
  {
   "cell_type": "markdown",
   "metadata": {},
   "source": [
    "##### Training the model"
   ]
  },
  {
   "cell_type": "code",
   "execution_count": 157,
   "metadata": {},
   "outputs": [
    {
     "name": "stdout",
     "output_type": "stream",
     "text": [
      "[Epoch: 1/30]  [Training Loss: 0.432]  [Test Loss: 0.278]  [Test Accuracy: 0.886]\n",
      "[Epoch: 2/30]  [Training Loss: 0.268]  [Test Loss: 0.301]  [Test Accuracy: 0.870]\n",
      "[Epoch: 3/30]  [Training Loss: 0.238]  [Test Loss: 0.239]  [Test Accuracy: 0.908]\n",
      "[Epoch: 4/30]  [Training Loss: 0.209]  [Test Loss: 0.227]  [Test Accuracy: 0.915]\n",
      "[Epoch: 5/30]  [Training Loss: 0.189]  [Test Loss: 0.244]  [Test Accuracy: 0.907]\n",
      "[Epoch: 6/30]  [Training Loss: 0.174]  [Test Loss: 0.243]  [Test Accuracy: 0.913]\n",
      "[Epoch: 7/30]  [Training Loss: 0.166]  [Test Loss: 0.207]  [Test Accuracy: 0.923]\n",
      "[Epoch: 8/30]  [Training Loss: 0.146]  [Test Loss: 0.216]  [Test Accuracy: 0.927]\n",
      "[Epoch: 9/30]  [Training Loss: 0.141]  [Test Loss: 0.199]  [Test Accuracy: 0.927]\n",
      "[Epoch: 10/30]  [Training Loss: 0.119]  [Test Loss: 0.244]  [Test Accuracy: 0.924]\n",
      "[Epoch: 11/30]  [Training Loss: 0.111]  [Test Loss: 0.247]  [Test Accuracy: 0.915]\n",
      "[Epoch: 12/30]  [Training Loss: 0.101]  [Test Loss: 0.242]  [Test Accuracy: 0.921]\n",
      "[Epoch: 13/30]  [Training Loss: 0.092]  [Test Loss: 0.231]  [Test Accuracy: 0.923]\n",
      "[Epoch: 14/30]  [Training Loss: 0.086]  [Test Loss: 0.277]  [Test Accuracy: 0.920]\n",
      "[Epoch: 15/30]  [Training Loss: 0.071]  [Test Loss: 0.284]  [Test Accuracy: 0.923]\n",
      "[Epoch: 16/30]  [Training Loss: 0.060]  [Test Loss: 0.349]  [Test Accuracy: 0.912]\n",
      "[Epoch: 17/30]  [Training Loss: 0.065]  [Test Loss: 0.304]  [Test Accuracy: 0.916]\n",
      "[Epoch: 18/30]  [Training Loss: 0.046]  [Test Loss: 0.306]  [Test Accuracy: 0.922]\n",
      "[Epoch: 19/30]  [Training Loss: 0.048]  [Test Loss: 0.310]  [Test Accuracy: 0.922]\n",
      "[Epoch: 20/30]  [Training Loss: 0.039]  [Test Loss: 0.410]  [Test Accuracy: 0.918]\n",
      "[Epoch: 21/30]  [Training Loss: 0.046]  [Test Loss: 0.400]  [Test Accuracy: 0.916]\n",
      "[Epoch: 22/30]  [Training Loss: 0.036]  [Test Loss: 0.385]  [Test Accuracy: 0.920]\n",
      "[Epoch: 23/30]  [Training Loss: 0.029]  [Test Loss: 0.452]  [Test Accuracy: 0.913]\n",
      "[Epoch: 24/30]  [Training Loss: 0.031]  [Test Loss: 0.429]  [Test Accuracy: 0.923]\n",
      "[Epoch: 25/30]  [Training Loss: 0.036]  [Test Loss: 0.419]  [Test Accuracy: 0.916]\n",
      "[Epoch: 26/30]  [Training Loss: 0.026]  [Test Loss: 0.496]  [Test Accuracy: 0.923]\n",
      "[Epoch: 27/30]  [Training Loss: 0.025]  [Test Loss: 0.549]  [Test Accuracy: 0.921]\n",
      "[Epoch: 28/30]  [Training Loss: 0.029]  [Test Loss: 0.448]  [Test Accuracy: 0.923]\n",
      "[Epoch: 29/30]  [Training Loss: 0.025]  [Test Loss: 0.434]  [Test Accuracy: 0.921]\n",
      "[Epoch: 30/30]  [Training Loss: 0.015]  [Test Loss: 0.506]  [Test Accuracy: 0.926]\n"
     ]
    }
   ],
   "source": [
    "epochs = 30\n",
    "steps = 0\n",
    "train_losses, test_losses = [], []\n",
    "for e in range(epochs):\n",
    "    running_loss = 0\n",
    "    net.train()\n",
    "    for images, labels in train_loader:   \n",
    "        if torch.cuda.is_available():\n",
    "            images, labels = images.cuda(), labels.cuda()     \n",
    "        optimizer.zero_grad()\n",
    "        log_ps = net(images)\n",
    "        loss = loss_function(log_ps, labels)\n",
    "        loss.backward()\n",
    "        optimizer.step()        \n",
    "        running_loss += loss.item()        \n",
    "    else:\n",
    "        test_loss = 0\n",
    "        accuracy = 0        \n",
    "        net.eval()\n",
    "        with torch.no_grad():\n",
    "            for images, labels in test_loader:\n",
    "                if torch.cuda.is_available():\n",
    "                    images, labels = images.cuda(), labels.cuda()\n",
    "                log_ps = net(images)\n",
    "                test_loss += loss_function(log_ps, labels)                \n",
    "                # ps = torch.exp(log_ps)\n",
    "                top_p, top_class = log_ps.topk(1, dim=1)\n",
    "                equals = top_class.long() == labels.long().view(*top_class.shape)\n",
    "                accuracy += torch.mean(equals.type(torch.FloatTensor))                \n",
    "        train_losses.append(running_loss/len(train_loader))\n",
    "        test_losses.append(test_loss/len(test_loader))\n",
    "        print(\"[Epoch: {}/{}] \".format(e+1, epochs),\n",
    "              \"[Training Loss: {:.3f}] \".format(running_loss/len(train_loader)),\n",
    "              \"[Test Loss: {:.3f}] \".format(test_loss/len(test_loader)),\n",
    "              \"[Test Accuracy: {:.3f}]\".format(accuracy/len(test_loader)))"
   ]
  },
  {
   "cell_type": "code",
   "execution_count": null,
   "metadata": {},
   "outputs": [],
   "source": []
  }
 ],
 "metadata": {
  "kernelspec": {
   "display_name": "Python 3",
   "language": "python",
   "name": "python3"
  },
  "language_info": {
   "codemirror_mode": {
    "name": "ipython",
    "version": 3
   },
   "file_extension": ".py",
   "mimetype": "text/x-python",
   "name": "python",
   "nbconvert_exporter": "python",
   "pygments_lexer": "ipython3",
   "version": "3.6.9"
  }
 },
 "nbformat": 4,
 "nbformat_minor": 4
}
