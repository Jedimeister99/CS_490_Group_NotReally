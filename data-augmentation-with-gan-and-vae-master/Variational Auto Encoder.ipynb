{
 "cells": [
  {
   "cell_type": "markdown",
   "metadata": {},
   "source": [
    "# Variational Auto-Encoder"
   ]
  },
  {
   "cell_type": "markdown",
   "metadata": {},
   "source": [
    "<img src=\"https://lilianweng.github.io/lil-log/assets/images/vae-gaussian.png\"  width=\"800\" height=\"400\">"
   ]
  },
  {
   "cell_type": "markdown",
   "metadata": {},
   "source": [
    "##### Importing libraries"
   ]
  },
  {
   "cell_type": "code",
   "execution_count": 1,
   "metadata": {},
   "outputs": [
    {
     "name": "stderr",
     "output_type": "stream",
     "text": [
      "Using TensorFlow backend.\n"
     ]
    }
   ],
   "source": [
    "import tensorflow as tf\n",
    "from tensorflow import keras\n",
    "import numpy as np\n",
    "import pandas as pd\n",
    "import re\n",
    "import matplotlib.pyplot as plt\n",
    "# fashion_mnist = keras.datasets.fashion_mnist\n",
    "from matplotlib.markers import MarkerStyle \n",
    "from keras import backend as K\n",
    "from keras.optimizers import Adam\n",
    "from keras.datasets import mnist \n",
    "from keras.layers import Lambda, Input, Dense \n",
    "from keras.losses import binary_crossentropy \n",
    "from keras.models import Model\n",
    "from keras.callbacks import EarlyStopping, ModelCheckpoint\n",
    "from glob import glob\n",
    "from PIL import Image\n",
    "from time import time\n",
    "from sklearn.model_selection import train_test_split\n",
    "import os\n",
    "import imageio\n",
    "from IPython.display import Image as Img\n",
    "os.chdir('c:/users/nicolas/documents/data/faces')"
   ]
  },
  {
   "cell_type": "markdown",
   "metadata": {},
   "source": [
    "##### Function to sort images"
   ]
  },
  {
   "cell_type": "code",
   "execution_count": 2,
   "metadata": {},
   "outputs": [],
   "source": [
    "def sorted_alphanumeric(data):\n",
    "    convert = lambda text: int(text) if text.isdigit() else text.lower()\n",
    "    alphanum_key = lambda key: [ convert(c) for c in re.split('([0-9]+)', key) ]\n",
    "    return sorted(data, key=alphanum_key)"
   ]
  },
  {
   "cell_type": "markdown",
   "metadata": {},
   "source": [
    "##### Loading all file names"
   ]
  },
  {
   "cell_type": "code",
   "execution_count": 3,
   "metadata": {},
   "outputs": [],
   "source": [
    "files = sorted_alphanumeric(glob(r'C:\\Users\\Nicolas\\Documents\\Data\\faces\\combined/*.jpg'))"
   ]
  },
  {
   "cell_type": "code",
   "execution_count": 4,
   "metadata": {},
   "outputs": [
    {
     "data": {
      "text/plain": [
       "['C:\\\\Users\\\\Nicolas\\\\Documents\\\\Data\\\\faces\\\\combined\\\\1_0_0_20161219140623097.jpg.chip.jpg',\n",
       " 'C:\\\\Users\\\\Nicolas\\\\Documents\\\\Data\\\\faces\\\\combined\\\\1_0_0_20161219140627985.jpg.chip.jpg',\n",
       " 'C:\\\\Users\\\\Nicolas\\\\Documents\\\\Data\\\\faces\\\\combined\\\\1_0_0_20161219140642920.jpg.chip.jpg',\n",
       " 'C:\\\\Users\\\\Nicolas\\\\Documents\\\\Data\\\\faces\\\\combined\\\\1_0_0_20161219154018476.jpg.chip.jpg',\n",
       " 'C:\\\\Users\\\\Nicolas\\\\Documents\\\\Data\\\\faces\\\\combined\\\\1_0_0_20161219154556757.jpg.chip.jpg']"
      ]
     },
     "execution_count": 4,
     "metadata": {},
     "output_type": "execute_result"
    }
   ],
   "source": [
    "files[:5]"
   ]
  },
  {
   "cell_type": "markdown",
   "metadata": {},
   "source": [
    "##### Keeping all correctly formatted labels"
   ]
  },
  {
   "cell_type": "code",
   "execution_count": 5,
   "metadata": {},
   "outputs": [
    {
     "data": {
      "text/plain": [
       "(array(['0', '1', '9', '_'], dtype='<U1'),\n",
       " array([12387, 11316,     1,     5], dtype=int64))"
      ]
     },
     "execution_count": 5,
     "metadata": {},
     "output_type": "execute_result"
    }
   ],
   "source": [
    "np.unique([i[-34] for i in files], return_counts=True)"
   ]
  },
  {
   "cell_type": "markdown",
   "metadata": {},
   "source": [
    "##### Keeping only men/women (not both)"
   ]
  },
  {
   "cell_type": "code",
   "execution_count": 6,
   "metadata": {},
   "outputs": [],
   "source": [
    "# faces = [i for i in files if (i[-34] == '1') and len(i[-37:-35].strip('\\\\').strip('d'))  == 2 ] # or in ('0', ''1'')"
   ]
  },
  {
   "cell_type": "code",
   "execution_count": 7,
   "metadata": {},
   "outputs": [],
   "source": [
    "# y = [i[-34] for i in files if (i[-34] == '1') and len(i[-37:-35].strip('\\\\').strip('d')) > 1 ]"
   ]
  },
  {
   "cell_type": "code",
   "execution_count": 8,
   "metadata": {},
   "outputs": [],
   "source": [
    "def load_women():\n",
    "    faces = pd.read_csv('800_women.csv', header=None).values\n",
    "    faces = faces.ravel().tolist()\n",
    "    return faces\n",
    "faces = load_women()\n",
    "y = np.repeat(1, len(faces))"
   ]
  },
  {
   "cell_type": "code",
   "execution_count": 9,
   "metadata": {},
   "outputs": [],
   "source": [
    "assert len(y) == len(faces), 'The X and Y are not of the same length!'"
   ]
  },
  {
   "cell_type": "markdown",
   "metadata": {},
   "source": [
    "#### Getting shape info, making cropping function"
   ]
  },
  {
   "cell_type": "code",
   "execution_count": 10,
   "metadata": {},
   "outputs": [],
   "source": [
    "# nrow, ncol, nchan = 200, 200, 3\n",
    "nrow, ncol, nchan = 60, 60, 3"
   ]
  },
  {
   "cell_type": "code",
   "execution_count": 11,
   "metadata": {},
   "outputs": [],
   "source": [
    "dim = 60"
   ]
  },
  {
   "cell_type": "code",
   "execution_count": 12,
   "metadata": {},
   "outputs": [],
   "source": [
    "def crop(img):\n",
    "    if img.shape[0]<img.shape[1]:\n",
    "        x = img.shape[0]\n",
    "        y = img.shape[1]\n",
    "        crop_img = img[: , int(y/2-x/2):int(y/2+x/2)]\n",
    "    else:\n",
    "        x = img.shape[1]\n",
    "        y = img.shape[0]\n",
    "        crop_img = img[int(y/2-x/2):int(y/2+x/2) , :]\n",
    "\n",
    "    return crop_img"
   ]
  },
  {
   "cell_type": "markdown",
   "metadata": {},
   "source": [
    "##### Loading and cropping images"
   ]
  },
  {
   "cell_type": "code",
   "execution_count": 13,
   "metadata": {},
   "outputs": [
    {
     "name": "stdout",
     "output_type": "stream",
     "text": [
      "0 seconds\n"
     ]
    }
   ],
   "source": [
    "start = time()\n",
    "x = []\n",
    "num_to_load = len(faces)\n",
    "for ix, file in enumerate(faces[:num_to_load]): \n",
    "    image = plt.imread(file, 'jpg')\n",
    "    image = Image.fromarray(image).resize((dim, dim)).convert('L')\n",
    "    image = crop(np.array(image))\n",
    "    x.append(image)\n",
    "print(f'{int(time() - start)} seconds')\n",
    "# y = y[:num_to_load]"
   ]
  },
  {
   "cell_type": "markdown",
   "metadata": {},
   "source": [
    "##### Turning the pictures into arrays"
   ]
  },
  {
   "cell_type": "code",
   "execution_count": 14,
   "metadata": {},
   "outputs": [],
   "source": [
    "x = np.array(x, dtype=np.float32)\n",
    "y = np.array(y, dtype=np.float32)"
   ]
  },
  {
   "cell_type": "code",
   "execution_count": 15,
   "metadata": {},
   "outputs": [],
   "source": [
    "yy, xx = y.nbytes, x.nbytes"
   ]
  },
  {
   "cell_type": "code",
   "execution_count": 16,
   "metadata": {},
   "outputs": [
    {
     "name": "stdout",
     "output_type": "stream",
     "text": [
      "The size of X is 11,520,000 bytes and the size of Y is 3,200 bytes.\n"
     ]
    }
   ],
   "source": [
    "print(f'The size of X is {xx:,} bytes and the size of Y is {yy:,} bytes.')"
   ]
  },
  {
   "cell_type": "code",
   "execution_count": 17,
   "metadata": {},
   "outputs": [
    {
     "name": "stdout",
     "output_type": "stream",
     "text": [
      "(800, 60, 60)\n"
     ]
    }
   ],
   "source": [
    "print(x.shape)"
   ]
  },
  {
   "cell_type": "code",
   "execution_count": 18,
   "metadata": {},
   "outputs": [],
   "source": [
    "files, faces = None, None"
   ]
  },
  {
   "cell_type": "markdown",
   "metadata": {},
   "source": [
    "##### Cross-validation"
   ]
  },
  {
   "cell_type": "code",
   "execution_count": 19,
   "metadata": {},
   "outputs": [],
   "source": [
    "x_train, x_test, y_train, y_test = train_test_split(x, y, test_size=2e-1)\n",
    "x, y = None, None"
   ]
  },
  {
   "cell_type": "code",
   "execution_count": 20,
   "metadata": {},
   "outputs": [
    {
     "name": "stdout",
     "output_type": "stream",
     "text": [
      "The size of the training set is 640 and the size of the test set is 160.\n"
     ]
    }
   ],
   "source": [
    "trainsize, testsize = x_train.shape[0], x_test.shape[0]\n",
    "print(f'The size of the training set is {trainsize:,} and the '\\\n",
    "     f'size of the test set is {testsize:,}.')"
   ]
  },
  {
   "cell_type": "markdown",
   "metadata": {},
   "source": [
    "##### Scaling, casting the arrays"
   ]
  },
  {
   "cell_type": "code",
   "execution_count": 21,
   "metadata": {
    "scrolled": true
   },
   "outputs": [
    {
     "name": "stdout",
     "output_type": "stream",
     "text": [
      "Done.\n"
     ]
    }
   ],
   "source": [
    "image_size = x_train.shape[1] * x_train.shape[1] \n",
    "x_train = np.reshape(x_train, [-1, image_size]) \n",
    "x_test = np.reshape(x_test, [-1, image_size]) \n",
    "x_train = x_train.astype('float32') / 255 \n",
    "x_test = x_test.astype('float32') / 255\n",
    "print('Done.')"
   ]
  },
  {
   "cell_type": "markdown",
   "metadata": {},
   "source": [
    "##### Building the VAE"
   ]
  },
  {
   "cell_type": "code",
   "execution_count": 22,
   "metadata": {},
   "outputs": [],
   "source": [
    "def build_vae(intermediate_dim=512, latent_dim=2):    \n",
    "    \"\"\"    \n",
    "    Build VAE    \n",
    "    :param intermediate_dim: size of hidden layers of the encoder/decoder    \n",
    "    :param latent_dim: latent space size    \n",
    "    :returns tuple: the encoder, the decoder, and the full vae    \n",
    "    \"\"\"\n",
    "    \n",
    "    # encoder first    \n",
    "    \n",
    "    inputs = Input(shape=(image_size,), name='encoder_input')    \n",
    "    x = Dense(intermediate_dim, activation='relu')(inputs)\n",
    "    \n",
    "    # latent mean and variance    \n",
    "    z_mean = Dense(latent_dim, name='z_mean')(x)    \n",
    "    z_log_var = Dense(latent_dim, name='z_log_var')(x)\n",
    "    \n",
    "    # reparameterization trick for random sampling    \n",
    "    # Note the use of the Lambda layer    \n",
    "    # At runtime, it will call the sampling function    \n",
    "    \n",
    "    z = Lambda(sampling, output_shape=(latent_dim,), name='z')([z_mean, z_log_var])\n",
    "                                                                \n",
    "    # full encoder encoder model    \n",
    "                                                                \n",
    "    encoder = Model(inputs, [z_mean, z_log_var, z], name='encoder')    \n",
    "    encoder.summary()\n",
    "    \n",
    "    # decoder    \n",
    "                                                                \n",
    "    latent_inputs = Input(shape=(latent_dim,), name='z_sampling')    \n",
    "    x = Dense(intermediate_dim, activation='relu')(latent_inputs)    \n",
    "    outputs = Dense(image_size, activation='sigmoid')(x)\n",
    "    \n",
    "    # full decoder model  \n",
    "\n",
    "    decoder = Model(latent_inputs, outputs, name='decoder')    \n",
    "    decoder.summary()\n",
    "\n",
    "    # VAE model    \n",
    "\n",
    "    outputs = decoder(encoder(inputs)[2])    \n",
    "    vae = Model(inputs, outputs, name='vae')\n",
    "\n",
    "    # Loss function    \n",
    "    # we start with the reconstruction loss    \n",
    "\n",
    "    reconstruction_loss = binary_crossentropy(inputs, outputs) * image_size\n",
    "\n",
    "    # next is the KL divergence\n",
    "\n",
    "    kl_loss = 1 + z_log_var - K.square(z_mean) - K.exp(z_log_var)    \n",
    "    kl_loss = K.sum(kl_loss, axis=-1)    \n",
    "    kl_loss *= -0.5\n",
    "    \n",
    "    # we combine them in a total loss    \n",
    "    \n",
    "    vae_loss = K.mean(reconstruction_loss + kl_loss)    \n",
    "    vae.add_loss(vae_loss)\n",
    "    \n",
    "    return encoder, decoder, vae"
   ]
  },
  {
   "cell_type": "markdown",
   "metadata": {},
   "source": [
    "##### Making a sampler"
   ]
  },
  {
   "cell_type": "code",
   "execution_count": 23,
   "metadata": {},
   "outputs": [],
   "source": [
    "def sampling(args: tuple):    \n",
    "    \"\"\"    \n",
    "    Reparameterization trick by sampling z from unit Gaussian    \n",
    "    :param args: (tensor, tensor) mean and log of variance of q(z|x)    \n",
    "    :returns tensor: sampled latent vector z    \n",
    "    \"\"\"\n",
    "    \n",
    "    # unpack the input tuple    \n",
    "    \n",
    "    z_mean, z_log_var = args\n",
    "    \n",
    "    # mini-batch size    \n",
    "    \n",
    "    mb_size = K.shape(z_mean)[0]\n",
    "    \n",
    "    # latent space size    \n",
    "    \n",
    "    dim = K.int_shape(z_mean)[1]\n",
    "    \n",
    "    # random normal vector with mean=0 and std=1.0    \n",
    "    \n",
    "    epsilon = K.random_normal(shape=(mb_size, dim))\n",
    "    \n",
    "    return z_mean + K.exp(0.5 * z_log_var) * epsilon"
   ]
  },
  {
   "cell_type": "markdown",
   "metadata": {},
   "source": [
    "##### Plotting the distribution"
   ]
  },
  {
   "cell_type": "code",
   "execution_count": 24,
   "metadata": {},
   "outputs": [],
   "source": [
    "def plot_latent_distribution(encoder, x_test, y_test, batch_size=128):    \n",
    "    \"\"\"    \n",
    "    Display a 2D plot of the digit classes in the latent space.\n",
    "    We are interested only in z, so we only need the encoder here.    \n",
    "    :param encoder: the encoder network    \n",
    "    :param x_test: test images    \n",
    "    :param y_test: test labels    \n",
    "    :param batch_size: size of the mini-batch    \n",
    "    \"\"\"    \n",
    "    \n",
    "    z_mean, _, _ = encoder.predict(x_test, batch_size=batch_size)\n",
    "    \n",
    "    plt.figure(figsize=(6, 6))\n",
    "    markers = ('o', 'x', '^', '<', '>', '*', 'h', 'H', 'D', 'd', 'P', 'X', '8', 's', 'p')\n",
    "    \n",
    "    for i in np.unique(y_test):\n",
    "        plt.scatter(z_mean[y_test == i, 0], z_mean[y_test == i, 1],\n",
    "        marker=MarkerStyle(markers[int(i)], fillstyle='none'), edgecolors='black')\n",
    "    \n",
    "    plt.xlabel(\"z[0]\")    \n",
    "    plt.ylabel(\"z[1]\")    \n",
    "    plt.show()"
   ]
  },
  {
   "cell_type": "markdown",
   "metadata": {},
   "source": [
    "##### Plotting the generated images"
   ]
  },
  {
   "cell_type": "code",
   "execution_count": 25,
   "metadata": {},
   "outputs": [],
   "source": [
    "def plot_generated_images(decoder):    \n",
    "    \"\"\"    \n",
    "    Display a 2D plot of the generated images.    \n",
    "    We only need the decoder, because we'll manually sample the distribution z    \n",
    "    :param decoder: the decoder network    \n",
    "    \"\"\"\n",
    "    \n",
    "    # display a nxn 2D manifold of digits    \n",
    "    \n",
    "    n = 4 # used to be 15    \n",
    "    digit_size = nrow # used to be 28\n",
    "    figure = np.zeros((digit_size * n, digit_size * n))    \n",
    "    \n",
    "    # linearly spaced coordinates corresponding to the 2D plot    \n",
    "    # of digit classes in the latent space    \n",
    "    \n",
    "    low = -1\n",
    "    high = 1\n",
    "    \n",
    "    grid_x = np.linspace(low, high, n)    \n",
    "    grid_y = np.linspace(low, high, n)[::-1]\n",
    "    \n",
    "    # start sampling z1 and z2 in the ranges grid_x and grid_y    \n",
    "    \n",
    "    for i, yi in enumerate(grid_y):        \n",
    "        for j, xi in enumerate(grid_x):\n",
    "            z_sample = np.array([[xi, yi]])            \n",
    "            x_decoded = decoder.predict(z_sample)            \n",
    "            digit = x_decoded[0].reshape(digit_size, digit_size)             \n",
    "            slice_i = slice(i * digit_size, (i + 1) * digit_size)            \n",
    "            slice_j = slice(j * digit_size, (j + 1) * digit_size)            \n",
    "            figure[slice_i, slice_j] = digit\n",
    "            \n",
    "     # plot the results    \n",
    "    \n",
    "    plt.figure(figsize=(6, 5)) # was 6, 5    \n",
    "    start_range = digit_size // 2    \n",
    "    end_range = n * digit_size + start_range + 1    \n",
    "    pixel_range = np.arange(start_range, end_range, digit_size)    \n",
    "    sample_range_x = np.round(grid_x, 1)    \n",
    "    sample_range_y = np.round(grid_y, 1)    \n",
    "    plt.xticks(pixel_range, sample_range_x)    \n",
    "    plt.yticks(pixel_range, sample_range_y)    \n",
    "    plt.xlabel(\"z[0]\")    \n",
    "    plt.ylabel(\"z[1]\")    \n",
    "    plt.imshow(figure, cmap='Greys_r')    \n",
    "    plt.show()"
   ]
  },
  {
   "cell_type": "markdown",
   "metadata": {},
   "source": [
    "##### Callbacks"
   ]
  },
  {
   "cell_type": "code",
   "execution_count": 26,
   "metadata": {},
   "outputs": [],
   "source": [
    "e_s = EarlyStopping(monitor='val_loss', patience=100)\n",
    "m_c = ModelCheckpoint('vae_weights.hdf5', save_best_only=True)"
   ]
  },
  {
   "cell_type": "markdown",
   "metadata": {},
   "source": [
    "##### Run the entire thing"
   ]
  },
  {
   "cell_type": "code",
   "execution_count": 28,
   "metadata": {},
   "outputs": [
    {
     "name": "stdout",
     "output_type": "stream",
     "text": [
      "Model: \"encoder\"\n",
      "__________________________________________________________________________________________________\n",
      "Layer (type)                    Output Shape         Param #     Connected to                     \n",
      "==================================================================================================\n",
      "encoder_input (InputLayer)      (None, 3600)         0                                            \n",
      "__________________________________________________________________________________________________\n",
      "dense_1 (Dense)                 (None, 512)          1843712     encoder_input[0][0]              \n",
      "__________________________________________________________________________________________________\n",
      "z_mean (Dense)                  (None, 2)            1026        dense_1[0][0]                    \n",
      "__________________________________________________________________________________________________\n",
      "z_log_var (Dense)               (None, 2)            1026        dense_1[0][0]                    \n",
      "__________________________________________________________________________________________________\n",
      "z (Lambda)                      (None, 2)            0           z_mean[0][0]                     \n",
      "                                                                 z_log_var[0][0]                  \n",
      "==================================================================================================\n",
      "Total params: 1,845,764\n",
      "Trainable params: 1,845,764\n",
      "Non-trainable params: 0\n",
      "__________________________________________________________________________________________________\n",
      "Model: \"decoder\"\n",
      "_________________________________________________________________\n",
      "Layer (type)                 Output Shape              Param #   \n",
      "=================================================================\n",
      "z_sampling (InputLayer)      (None, 2)                 0         \n",
      "_________________________________________________________________\n",
      "dense_2 (Dense)              (None, 512)               1536      \n",
      "_________________________________________________________________\n",
      "dense_3 (Dense)              (None, 3600)              1846800   \n",
      "=================================================================\n",
      "Total params: 1,848,336\n",
      "Trainable params: 1,848,336\n",
      "Non-trainable params: 0\n",
      "_________________________________________________________________\n",
      "WARNING:tensorflow:From C:\\Users\\Nicolas\\Anaconda3\\envs\\Pytorch Env\\lib\\site-packages\\tensorflow_core\\python\\ops\\nn_impl.py:183: where (from tensorflow.python.ops.array_ops) is deprecated and will be removed in a future version.\n",
      "Instructions for updating:\n",
      "Use tf.where in 2.0, which has the same broadcast rule as np.where\n",
      "Model: \"vae\"\n",
      "_________________________________________________________________\n",
      "Layer (type)                 Output Shape              Param #   \n",
      "=================================================================\n",
      "encoder_input (InputLayer)   (None, 3600)              0         \n",
      "_________________________________________________________________\n",
      "encoder (Model)              [(None, 2), (None, 2), (N 1845764   \n",
      "_________________________________________________________________\n",
      "decoder (Model)              (None, 3600)              1848336   \n",
      "=================================================================\n",
      "Total params: 3,694,100\n",
      "Trainable params: 3,694,100\n",
      "Non-trainable params: 0\n",
      "_________________________________________________________________\n"
     ]
    },
    {
     "name": "stderr",
     "output_type": "stream",
     "text": [
      "C:\\Users\\Nicolas\\Anaconda3\\envs\\Pytorch Env\\lib\\site-packages\\keras\\engine\\training_utils.py:819: UserWarning: Output decoder missing from loss dictionary. We assume this was done on purpose. The fit and evaluate APIs will not be expecting any data to be passed to decoder.\n",
      "  'be expecting any data to be passed to {0}.'.format(name))\n"
     ]
    }
   ],
   "source": [
    "if __name__ == '__main__': \n",
    "    encoder, decoder, vae = build_vae()\n",
    "    vae.compile(optimizer=Adam(lr=0.002)) \n",
    "    vae.summary()\n",
    "\n",
    "    \n",
    "#     vae.fit(x_train, epochs=500, batch_size=16, # was \n",
    "#             validation_data=(x_test, None),\n",
    "#             callbacks=[e_s, m_c],\n",
    "#             verbose=1)\n",
    "    \n",
    "#     plot_generated_images(decoder)"
   ]
  },
  {
   "cell_type": "code",
   "execution_count": 29,
   "metadata": {},
   "outputs": [],
   "source": [
    "vae.load_weights('vae_weights.hdf5')"
   ]
  },
  {
   "cell_type": "code",
   "execution_count": 30,
   "metadata": {},
   "outputs": [
    {
     "data": {
      "text/plain": [
       "<matplotlib.image.AxesImage at 0x1528a225fd0>"
      ]
     },
     "execution_count": 30,
     "metadata": {},
     "output_type": "execute_result"
    },
    {
     "data": {
      "image/png": "[encoded data removed]",
      "text/plain": [
       "<Figure size 432x288 with 1 Axes>"
      ]
     },
     "metadata": {
      "needs_background": "light"
     },
     "output_type": "display_data"
    }
   ],
   "source": [
    "plt.imshow(vae.predict(np.random.uniform(-1, 1, dim*dim).reshape(1, \n",
    "                            -1)).reshape(dim, dim), cmap='gray')"
   ]
  },
  {
   "cell_type": "code",
   "execution_count": 31,
   "metadata": {},
   "outputs": [],
   "source": [
    "min_ = np.linspace(0.1, .7, n)\n",
    "max_ = np.minimum(min_ + np.random.uniform(0.01, 0.02, n), .7)"
   ]
  },
  {
   "cell_type": "code",
   "execution_count": 32,
   "metadata": {},
   "outputs": [],
   "source": [
    "def gen_samples(n, minimum, maximum):\n",
    "        face = []\n",
    "        for i in range(n):\n",
    "            face.append(vae.predict(np.random.uniform(minimum, maximum, dim*dim).reshape(1, -1)).reshape(dim, dim))\n",
    "        return face"
   ]
  },
  {
   "cell_type": "code",
   "execution_count": 33,
   "metadata": {},
   "outputs": [],
   "source": [
    "if not os.path.isdir('vae_800_women'):\n",
    "    os.mkdir('vae_800_women')"
   ]
  },
  {
   "cell_type": "code",
   "execution_count": 34,
   "metadata": {},
   "outputs": [],
   "source": [
    "# png_dir = 'vae_800_women'\n",
    "# images = []\n",
    "# for file_name in sorted_alphanumeric(os.listdir(png_dir))[:-20]:\n",
    "#     if file_name.endswith('.jpg'):\n",
    "#         file_path = os.path.join(png_dir, file_name)\n",
    "#         images.append(imageio.imread(file_path))\n",
    "# images.extend(images[::-1])     "
   ]
  },
  {
   "cell_type": "code",
   "execution_count": 37,
   "metadata": {},
   "outputs": [
    {
     "name": "stdout",
     "output_type": "stream",
     "text": [
      "1000  completed.\n",
      "2000  completed.\n",
      "3000  completed.\n",
      "4000  completed.\n",
      "5000  completed.\n",
      "6000  completed.\n",
      "7000  completed.\n",
      "8000  completed.\n",
      "9000  completed.\n",
      "10000  completed.\n",
      "11000  completed.\n",
      "12000  completed.\n",
      "13000  completed.\n",
      "14000  completed.\n",
      "15000  completed.\n",
      "16000  completed.\n",
      "17000  completed.\n",
      "18000  completed.\n",
      "19000  completed.\n",
      "20000  completed.\n",
      "21000  completed.\n",
      "22000  completed.\n",
      "23000  completed.\n",
      "24000  completed.\n",
      "25000  completed.\n",
      "Done.\n"
     ]
    }
   ],
   "source": [
    "n = 25_000\n",
    "for i in range(1, n + 1):\n",
    "    pic = np.mean(gen_samples(n=50, minimum=np.random.uniform(0, 1), \n",
    "                              maximum=np.random.uniform(0, 1)), axis=0)*255\n",
    "    filename = 'vae_800_women/{}.jpg'.format(str(i))\n",
    "    im = Image.fromarray(pic.astype(np.uint8))\n",
    "    im.save(filename)\n",
    "    if (i+1) % 1_000 == 0:\n",
    "        print(i+1, ' completed.')\n",
    "print('Done.')"
   ]
  },
  {
   "cell_type": "code",
   "execution_count": null,
   "metadata": {},
   "outputs": [],
   "source": [
    "# imageio.mimsave('c:/users/nicolas/desktop/sickgif.gif', images, fps=60)"
   ]
  },
  {
   "cell_type": "code",
   "execution_count": null,
   "metadata": {},
   "outputs": [],
   "source": [
    "Img(filename='c:/users/nicolas/desktop/sickgif.gif')"
   ]
  },
  {
   "cell_type": "code",
   "execution_count": null,
   "metadata": {},
   "outputs": [],
   "source": [
    "plot_generated_images(decoder)"
   ]
  },
  {
   "cell_type": "code",
   "execution_count": null,
   "metadata": {
    "scrolled": true
   },
   "outputs": [],
   "source": [
    "plot_generated_images(decoder)"
   ]
  },
  {
   "cell_type": "code",
   "execution_count": null,
   "metadata": {},
   "outputs": [],
   "source": [
    "plt.savefig('c:/users/nicolas/desktop.genfaces.jpg')"
   ]
  }
 ],
 "metadata": {
  "kernelspec": {
   "display_name": "Python 3",
   "language": "python",
   "name": "python3"
  },
  "language_info": {
   "codemirror_mode": {
    "name": "ipython",
    "version": 3
   },
   "file_extension": ".py",
   "mimetype": "text/x-python",
   "name": "python",
   "nbconvert_exporter": "python",
   "pygments_lexer": "ipython3",
   "version": "3.6.9"
  }
 },
 "nbformat": 4,
 "nbformat_minor": 4
}
