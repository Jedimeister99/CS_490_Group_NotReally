{
 "cells": [
  {
   "cell_type": "markdown",
   "metadata": {},
   "source": [
    "# Keras Benchmark "
   ]
  },
  {
   "cell_type": "markdown",
   "metadata": {},
   "source": [
    "##### Importing libraries"
   ]
  },
  {
   "cell_type": "code",
   "execution_count": 36,
   "metadata": {},
   "outputs": [],
   "source": [
    "import numpy as np\n",
    "import matplotlib.pyplot as plt\n",
    "from glob import glob\n",
    "from PIL import Image\n",
    "from time import time\n",
    "from sklearn.model_selection import train_test_split\n",
    "from keras.layers import Conv2D, MaxPooling2D, ZeroPadding2D,\\\n",
    "    Dropout, Flatten, Dense\n",
    "from keras.callbacks import EarlyStopping\n",
    "from keras.models import Sequential\n",
    "from keras.optimizers import Adam\n",
    "from keras.utils import to_categorical\n",
    "import os\n",
    "os.chdir('C:/Users/Nicolas/Documents/Data/Faces')"
   ]
  },
  {
   "cell_type": "markdown",
   "metadata": {},
   "source": [
    "##### Loading all file names"
   ]
  },
  {
   "cell_type": "code",
   "execution_count": 51,
   "metadata": {},
   "outputs": [],
   "source": [
    "files = glob('combined/*.jpg')\n",
    "files = np.random.permutation(files)"
   ]
  },
  {
   "cell_type": "code",
   "execution_count": 52,
   "metadata": {},
   "outputs": [
    {
     "data": {
      "text/plain": [
       "array(['combined\\\\35_0_1_20170117095820209.jpg.chip.jpg',\n",
       "       'combined\\\\28_0_2_20170116164233720.jpg.chip.jpg',\n",
       "       'combined\\\\40_0_3_20170117154652454.jpg.chip.jpg',\n",
       "       'combined\\\\36_0_3_20170119201733085.jpg.chip.jpg',\n",
       "       'combined\\\\27_0_3_20170119165911975.jpg.chip.jpg'], dtype='<U47')"
      ]
     },
     "execution_count": 52,
     "metadata": {},
     "output_type": "execute_result"
    }
   ],
   "source": [
    "files[:5]"
   ]
  },
  {
   "cell_type": "markdown",
   "metadata": {},
   "source": [
    "##### Keeping all correctly formatted labels"
   ]
  },
  {
   "cell_type": "code",
   "execution_count": 53,
   "metadata": {},
   "outputs": [
    {
     "data": {
      "text/plain": [
       "(array(['0', '1', '9', '_'], dtype='<U1'),\n",
       " array([12387, 11316,     1,     5], dtype=int64))"
      ]
     },
     "execution_count": 53,
     "metadata": {},
     "output_type": "execute_result"
    }
   ],
   "source": [
    "np.unique([i[-34] for i in files], return_counts=True)"
   ]
  },
  {
   "cell_type": "markdown",
   "metadata": {},
   "source": [
    "##### Removing problematic target names"
   ]
  },
  {
   "cell_type": "code",
   "execution_count": 54,
   "metadata": {},
   "outputs": [],
   "source": [
    "faces = [i for i in files if (i[-34] in ('0', '1')) and len(i[-37:-35].strip('\\\\').strip('d'))  == 2 ]"
   ]
  },
  {
   "cell_type": "code",
   "execution_count": 55,
   "metadata": {},
   "outputs": [],
   "source": [
    "y = [i[-34] for i in files if (i[-34] in ('0', '1')) and len(i[-37:-35].strip('\\\\').strip('d')) > 1 ]"
   ]
  },
  {
   "cell_type": "code",
   "execution_count": 56,
   "metadata": {},
   "outputs": [],
   "source": [
    "sex = ['men', 'women']"
   ]
  },
  {
   "cell_type": "code",
   "execution_count": 57,
   "metadata": {},
   "outputs": [],
   "source": [
    "assert len(y) == len(faces), 'The X and Y are not of the same length!'"
   ]
  },
  {
   "cell_type": "markdown",
   "metadata": {},
   "source": [
    "#### This is the shape width/height"
   ]
  },
  {
   "cell_type": "code",
   "execution_count": 58,
   "metadata": {},
   "outputs": [],
   "source": [
    "dim = 60"
   ]
  },
  {
   "cell_type": "markdown",
   "metadata": {},
   "source": [
    "#### Cropping function"
   ]
  },
  {
   "cell_type": "code",
   "execution_count": 59,
   "metadata": {},
   "outputs": [],
   "source": [
    "def crop(img):\n",
    "    if img.shape[0]<img.shape[1]:\n",
    "        x = img.shape[0]\n",
    "        y = img.shape[1]\n",
    "        crop_img = img[: , int(y/2-x/2):int(y/2+x/2)]\n",
    "    else:\n",
    "        x = img.shape[1]\n",
    "        y = img.shape[0]\n",
    "        crop_img = img[int(y/2-x/2):int(y/2+x/2) , :]\n",
    "\n",
    "    return crop_img"
   ]
  },
  {
   "cell_type": "markdown",
   "metadata": {},
   "source": [
    "##### Loading and cropping images"
   ]
  },
  {
   "cell_type": "code",
   "execution_count": 60,
   "metadata": {},
   "outputs": [
    {
     "name": "stdout",
     "output_type": "stream",
     "text": [
      "Done. 13 seconds\n"
     ]
    }
   ],
   "source": [
    "print('Scaling...', end='')\n",
    "start = time()\n",
    "x = []\n",
    "num_to_load = len(faces)\n",
    "for ix, file in enumerate(faces[:num_to_load]): \n",
    "    image = plt.imread(file, 'jpg')\n",
    "    image = Image.fromarray(image).resize((dim, dim)).convert('L')\n",
    "    image = crop(np.array(image))\n",
    "    x.append(image)\n",
    "print(f'\\rDone. {int(time() - start)} seconds')\n",
    "y = y[:num_to_load]"
   ]
  },
  {
   "cell_type": "markdown",
   "metadata": {},
   "source": [
    "##### Turning the pictures into arrays"
   ]
  },
  {
   "cell_type": "code",
   "execution_count": 61,
   "metadata": {},
   "outputs": [],
   "source": [
    "x = np.array(x, dtype=np.float32).reshape(-1, 60, 60, 1)\n",
    "y = np.array(y, dtype=np.float32)\n",
    "labels = y.copy()"
   ]
  },
  {
   "cell_type": "markdown",
   "metadata": {},
   "source": [
    "##### Turning the targets into a 2D matrix"
   ]
  },
  {
   "cell_type": "code",
   "execution_count": 64,
   "metadata": {},
   "outputs": [],
   "source": [
    "y = to_categorical(y, 2)"
   ]
  },
  {
   "cell_type": "code",
   "execution_count": 65,
   "metadata": {},
   "outputs": [
    {
     "data": {
      "text/plain": [
       "array([[1., 0.],\n",
       "       [1., 0.],\n",
       "       [1., 0.],\n",
       "       ...,\n",
       "       [1., 0.],\n",
       "       [0., 1.],\n",
       "       [1., 0.]], dtype=float32)"
      ]
     },
     "execution_count": 65,
     "metadata": {},
     "output_type": "execute_result"
    }
   ],
   "source": [
    "y"
   ]
  },
  {
   "cell_type": "code",
   "execution_count": 66,
   "metadata": {},
   "outputs": [
    {
     "data": {
      "text/plain": [
       "((20638, 60, 60, 1), (20638, 2))"
      ]
     },
     "execution_count": 66,
     "metadata": {},
     "output_type": "execute_result"
    }
   ],
   "source": [
    "x.shape, y.shape"
   ]
  },
  {
   "cell_type": "code",
   "execution_count": 68,
   "metadata": {},
   "outputs": [],
   "source": [
    "assert x.ndim == 4, 'The input is the wrong shape!'"
   ]
  },
  {
   "cell_type": "code",
   "execution_count": 69,
   "metadata": {},
   "outputs": [],
   "source": [
    "yy, xx = y.nbytes, x.nbytes"
   ]
  },
  {
   "cell_type": "code",
   "execution_count": 70,
   "metadata": {},
   "outputs": [
    {
     "name": "stdout",
     "output_type": "stream",
     "text": [
      "The size of X is 297,187,200 bytes and the size of Y is 165,104 bytes.\n"
     ]
    }
   ],
   "source": [
    "print(f'The size of X is {xx:,} bytes and the size of Y is {yy:,} bytes.')"
   ]
  },
  {
   "cell_type": "code",
   "execution_count": 71,
   "metadata": {},
   "outputs": [],
   "source": [
    "files, faces = None, None"
   ]
  },
  {
   "cell_type": "markdown",
   "metadata": {},
   "source": [
    "##### Displaying the pictures"
   ]
  },
  {
   "cell_type": "code",
   "execution_count": 72,
   "metadata": {},
   "outputs": [
    {
     "data": {
      "image/png": "[encoded data removed]",
      "text/plain": [
       "<Figure size 864x864 with 4 Axes>"
      ]
     },
     "metadata": {},
     "output_type": "display_data"
    }
   ],
   "source": [
    "fig = plt.figure(figsize=(12, 12))\n",
    "for i in range(1, 5):\n",
    "    plt.subplot(1, 5, i)\n",
    "    rand = np.random.randint(0, x.shape[0])\n",
    "    ax = plt.imshow(x[rand][:, :, 0], cmap='gray')\n",
    "    plt.title('<{}>'.format(sex[int(labels[rand])].capitalize()))\n",
    "    yticks = plt.xticks([])\n",
    "    yticks = plt.yticks([])"
   ]
  },
  {
   "cell_type": "markdown",
   "metadata": {},
   "source": [
    "##### Cross-validation"
   ]
  },
  {
   "cell_type": "code",
   "execution_count": 73,
   "metadata": {},
   "outputs": [],
   "source": [
    "x_train, x_test, y_train, y_test = train_test_split(x, y, test_size=2e-1)\n",
    "x, y = None, None"
   ]
  },
  {
   "cell_type": "code",
   "execution_count": 74,
   "metadata": {},
   "outputs": [
    {
     "name": "stdout",
     "output_type": "stream",
     "text": [
      "The size of the training set is 16,510 and the size of the test set is 4,128.\n"
     ]
    }
   ],
   "source": [
    "trainsize, testsize = x_train.shape[0], x_test.shape[0]\n",
    "print(f'The size of the training set is {trainsize:,} and the '\\\n",
    "     f'size of the test set is {testsize:,}.')"
   ]
  },
  {
   "cell_type": "markdown",
   "metadata": {},
   "source": [
    "##### Scaling, casting the arrays"
   ]
  },
  {
   "cell_type": "code",
   "execution_count": 75,
   "metadata": {},
   "outputs": [
    {
     "name": "stdout",
     "output_type": "stream",
     "text": [
      "Done.     \n"
     ]
    }
   ],
   "source": [
    "print('Scaling...', end='')\n",
    "image_size = x_train.shape[1] * x_train.shape[1] \n",
    "x_train = x_train.astype('float32') / 255 \n",
    "x_test = x_test.astype('float32') / 255\n",
    "print('\\rDone.     ')"
   ]
  },
  {
   "cell_type": "markdown",
   "metadata": {},
   "source": [
    "##### Building the ConvNet"
   ]
  },
  {
   "cell_type": "code",
   "execution_count": 77,
   "metadata": {},
   "outputs": [
    {
     "data": {
      "text/plain": [
       "(16510, 60, 60, 1)"
      ]
     },
     "execution_count": 77,
     "metadata": {},
     "output_type": "execute_result"
    }
   ],
   "source": [
    "x_train.shape"
   ]
  },
  {
   "cell_type": "code",
   "execution_count": 78,
   "metadata": {},
   "outputs": [],
   "source": [
    "model = Sequential([\n",
    "    \n",
    "    Conv2D(16*4, (3, 3), input_shape=(60, 60, 1), activation='relu'),\n",
    "    MaxPooling2D(),\n",
    "    \n",
    "    Conv2D(32*4, (3, 3), activation='relu'),\n",
    "    MaxPooling2D(),\n",
    "    \n",
    "    Conv2D(64*4, (3, 3), activation='relu'),\n",
    "    MaxPooling2D(),\n",
    "    \n",
    "    Conv2D(128*4, (3, 3), activation='relu'),\n",
    "    MaxPooling2D(),\n",
    "    \n",
    "    Flatten(),\n",
    "    \n",
    "    Dense(1024, activation='relu'),\n",
    "    Dense(2048, activation='relu'),\n",
    "    Dense(2, activation='sigmoid')\n",
    "])"
   ]
  },
  {
   "cell_type": "code",
   "execution_count": 79,
   "metadata": {},
   "outputs": [
    {
     "name": "stdout",
     "output_type": "stream",
     "text": [
      "Model: \"sequential_1\"\n",
      "_________________________________________________________________\n",
      "Layer (type)                 Output Shape              Param #   \n",
      "=================================================================\n",
      "conv2d_1 (Conv2D)            (None, 58, 58, 64)        640       \n",
      "_________________________________________________________________\n",
      "max_pooling2d_1 (MaxPooling2 (None, 29, 29, 64)        0         \n",
      "_________________________________________________________________\n",
      "conv2d_2 (Conv2D)            (None, 27, 27, 128)       73856     \n",
      "_________________________________________________________________\n",
      "max_pooling2d_2 (MaxPooling2 (None, 13, 13, 128)       0         \n",
      "_________________________________________________________________\n",
      "conv2d_3 (Conv2D)            (None, 11, 11, 256)       295168    \n",
      "_________________________________________________________________\n",
      "max_pooling2d_3 (MaxPooling2 (None, 5, 5, 256)         0         \n",
      "_________________________________________________________________\n",
      "conv2d_4 (Conv2D)            (None, 3, 3, 512)         1180160   \n",
      "_________________________________________________________________\n",
      "max_pooling2d_4 (MaxPooling2 (None, 1, 1, 512)         0         \n",
      "_________________________________________________________________\n",
      "flatten_1 (Flatten)          (None, 512)               0         \n",
      "_________________________________________________________________\n",
      "dense_1 (Dense)              (None, 1024)              525312    \n",
      "_________________________________________________________________\n",
      "dense_2 (Dense)              (None, 2048)              2099200   \n",
      "_________________________________________________________________\n",
      "dense_3 (Dense)              (None, 2)                 4098      \n",
      "=================================================================\n",
      "Total params: 4,178,434\n",
      "Trainable params: 4,178,434\n",
      "Non-trainable params: 0\n",
      "_________________________________________________________________\n"
     ]
    }
   ],
   "source": [
    "model.summary()"
   ]
  },
  {
   "cell_type": "markdown",
   "metadata": {},
   "source": [
    "##### Compiling the model"
   ]
  },
  {
   "cell_type": "code",
   "execution_count": 81,
   "metadata": {},
   "outputs": [],
   "source": [
    "model.compile(optimizer=Adam(lr=0.001), \n",
    "                             loss='binary_crossentropy', \n",
    "                             metrics=['accuracy'])"
   ]
  },
  {
   "cell_type": "markdown",
   "metadata": {},
   "source": [
    "##### Making callbacks"
   ]
  },
  {
   "cell_type": "code",
   "execution_count": 82,
   "metadata": {},
   "outputs": [],
   "source": [
    "e_s = EarlyStopping(monitor='val_loss', patience=10)"
   ]
  },
  {
   "cell_type": "markdown",
   "metadata": {},
   "source": [
    "##### Training the model"
   ]
  },
  {
   "cell_type": "code",
   "execution_count": 83,
   "metadata": {
    "scrolled": false
   },
   "outputs": [
    {
     "name": "stdout",
     "output_type": "stream",
     "text": [
      "Train on 16510 samples, validate on 4128 samples\n",
      "Epoch 1/50\n",
      "16510/16510 [==============================] - 194s 12ms/step - loss: 0.4461 - accuracy: 0.7849 - val_loss: 0.3540 - val_accuracy: 0.8445\n",
      "Epoch 2/50\n",
      "16510/16510 [==============================] - 189s 11ms/step - loss: 0.3105 - accuracy: 0.8708 - val_loss: 0.3286 - val_accuracy: 0.8685\n",
      "Epoch 3/50\n",
      "16510/16510 [==============================] - 187s 11ms/step - loss: 0.2703 - accuracy: 0.8924 - val_loss: 0.2691 - val_accuracy: 0.8939\n",
      "Epoch 4/50\n",
      "16510/16510 [==============================] - 184s 11ms/step - loss: 0.2507 - accuracy: 0.8994 - val_loss: 0.2621 - val_accuracy: 0.8960\n",
      "Epoch 5/50\n",
      "16510/16510 [==============================] - 179s 11ms/step - loss: 0.2272 - accuracy: 0.9126 - val_loss: 0.2679 - val_accuracy: 0.8979\n",
      "Epoch 6/50\n",
      "16510/16510 [==============================] - 178s 11ms/step - loss: 0.2122 - accuracy: 0.9183 - val_loss: 0.2632 - val_accuracy: 0.9006\n",
      "Epoch 7/50\n",
      "16510/16510 [==============================] - 179s 11ms/step - loss: 0.1939 - accuracy: 0.9279 - val_loss: 0.2450 - val_accuracy: 0.9059\n",
      "Epoch 8/50\n",
      "16510/16510 [==============================] - 178s 11ms/step - loss: 0.1780 - accuracy: 0.9325 - val_loss: 0.2700 - val_accuracy: 0.8985\n",
      "Epoch 9/50\n",
      "16510/16510 [==============================] - 179s 11ms/step - loss: 0.1662 - accuracy: 0.9392 - val_loss: 0.2543 - val_accuracy: 0.9042\n",
      "Epoch 10/50\n",
      "16510/16510 [==============================] - 178s 11ms/step - loss: 0.1456 - accuracy: 0.9458 - val_loss: 0.2461 - val_accuracy: 0.9047\n",
      "Epoch 11/50\n",
      "16510/16510 [==============================] - 178s 11ms/step - loss: 0.1334 - accuracy: 0.9518 - val_loss: 0.2549 - val_accuracy: 0.9070\n",
      "Epoch 12/50\n",
      "16510/16510 [==============================] - 179s 11ms/step - loss: 0.1256 - accuracy: 0.9551 - val_loss: 0.3066 - val_accuracy: 0.8981\n",
      "Epoch 13/50\n",
      "16510/16510 [==============================] - 178s 11ms/step - loss: 0.1135 - accuracy: 0.9619 - val_loss: 0.2777 - val_accuracy: 0.9061\n",
      "Epoch 14/50\n",
      "16510/16510 [==============================] - 525s 32ms/step - loss: 0.1033 - accuracy: 0.9637 - val_loss: 0.2723 - val_accuracy: 0.9090\n",
      "Epoch 15/50\n",
      "16510/16510 [==============================] - 188s 11ms/step - loss: 0.0919 - accuracy: 0.9698 - val_loss: 0.3505 - val_accuracy: 0.8961\n",
      "Epoch 16/50\n",
      "16510/16510 [==============================] - 186s 11ms/step - loss: 0.0901 - accuracy: 0.9692 - val_loss: 0.3191 - val_accuracy: 0.9099\n",
      "Epoch 17/50\n",
      "16510/16510 [==============================] - 190s 11ms/step - loss: 0.0830 - accuracy: 0.9713 - val_loss: 0.4155 - val_accuracy: 0.8946\n"
     ]
    }
   ],
   "source": [
    "hist = model.fit(x_train, y_train,\n",
    "                 epochs=50,\n",
    "                 validation_data=[x_test, y_test],\n",
    "                 batch_size=32,\n",
    "                 callbacks=[e_s])"
   ]
  },
  {
   "cell_type": "markdown",
   "metadata": {},
   "source": [
    "##### Evaluating the model"
   ]
  },
  {
   "cell_type": "code",
   "execution_count": 84,
   "metadata": {},
   "outputs": [
    {
     "name": "stdout",
     "output_type": "stream",
     "text": [
      "4128/4128 [==============================] - 8s 2ms/step\n"
     ]
    }
   ],
   "source": [
    "test_loss, test_acc = model.evaluate(x_test, y_test)"
   ]
  },
  {
   "cell_type": "code",
   "execution_count": 85,
   "metadata": {},
   "outputs": [
    {
     "name": "stdout",
     "output_type": "stream",
     "text": [
      "Test loss: 0.4155 — Test accuracy: 89%.\n"
     ]
    }
   ],
   "source": [
    "print(f'Test loss: {np.round(test_loss, 4)} — Test accuracy: {int(test_acc*100)}%.')"
   ]
  },
  {
   "cell_type": "markdown",
   "metadata": {},
   "source": [
    "##### Getting examples of misclassified samples"
   ]
  },
  {
   "cell_type": "code",
   "execution_count": 86,
   "metadata": {},
   "outputs": [],
   "source": [
    "yy = np.argmax(y_test, axis=1)"
   ]
  },
  {
   "cell_type": "code",
   "execution_count": 89,
   "metadata": {},
   "outputs": [],
   "source": [
    "xx = np.argmax(model.predict(x_test), axis=1)"
   ]
  },
  {
   "cell_type": "code",
   "execution_count": 91,
   "metadata": {},
   "outputs": [],
   "source": [
    "wrong_input = x_test[xx != yy]\n",
    "wrong_target = np.argmax(y_test[xx != yy], axis=1)"
   ]
  },
  {
   "cell_type": "code",
   "execution_count": 104,
   "metadata": {},
   "outputs": [],
   "source": [
    "assert wrong_input.shape[0] == wrong_target.shape[0], 'Input shape error.'"
   ]
  },
  {
   "cell_type": "code",
   "execution_count": 99,
   "metadata": {},
   "outputs": [
    {
     "data": {
      "image/png": "[encoded data removed]",
      "text/plain": [
       "<Figure size 864x864 with 4 Axes>"
      ]
     },
     "metadata": {},
     "output_type": "display_data"
    }
   ],
   "source": [
    "rand = np.random.randint(wrong_target.shape[0])\n",
    "fig = plt.figure(figsize=(12, 12))\n",
    "for i in range(1, 5):\n",
    "    plt.subplot(1, 5, i)\n",
    "    rand = np.random.randint(wrong_target.shape[0])\n",
    "    ax = plt.imshow(wrong_input[rand][:, :, 0], cmap='gray')\n",
    "    plt.title('<{}>'.format(sex[int(wrong_target[rand])].capitalize()))\n",
    "    yticks = plt.xticks([])\n",
    "    yticks = plt.yticks([])"
   ]
  },
  {
   "cell_type": "markdown",
   "metadata": {},
   "source": [
    "The above women were classified as men. It's unclear why."
   ]
  },
  {
   "cell_type": "markdown",
   "metadata": {},
   "source": [
    "##### Evolution of the Metrics per Epoch"
   ]
  },
  {
   "cell_type": "code",
   "execution_count": 103,
   "metadata": {},
   "outputs": [
    {
     "data": {
      "image/png": "[encoded data removed]",
      "text/plain": [
       "<Figure size 432x288 with 1 Axes>"
      ]
     },
     "metadata": {
      "needs_background": "light"
     },
     "output_type": "display_data"
    }
   ],
   "source": [
    "len_epochs = len(hist.history['loss'])\n",
    "fig, ax = plt.subplots()\n",
    "ax.set_facecolor('#DEDEDE')\n",
    "ax.plot(np.arange(1, len_epochs + 1), hist.history['loss'], \n",
    "        color='orange', lw=3)\n",
    "ax.plot(np.arange(1, len_epochs + 1), hist.history['accuracy'], \n",
    "        color='blue', lw=3)\n",
    "ax.plot(np.arange(1, len_epochs + 1), hist.history['val_loss'], \n",
    "        color='orange', ls=':', lw=3)\n",
    "ax.plot(np.arange(1, len_epochs + 1), hist.history['val_accuracy'], \n",
    "        color='blue', ls=':', lw=3)\n",
    "plt.ylim(0, 1)\n",
    "plt.title('Metrics per Epochs')\n",
    "plt.legend(['Loss', 'Accuracy', 'Val Loss', 'Val Accuracy'])\n",
    "plt.grid(True, alpha=.3)\n",
    "plt.show()"
   ]
  },
  {
   "cell_type": "markdown",
   "metadata": {},
   "source": [
    "So we reached 90% accuracy. We will do some more work on the Pytorch CNN and get the same accuracy, now that we know that it is possible."
   ]
  }
 ],
 "metadata": {
  "kernelspec": {
   "display_name": "Python 3",
   "language": "python",
   "name": "python3"
  },
  "language_info": {
   "codemirror_mode": {
    "name": "ipython",
    "version": 3
   },
   "file_extension": ".py",
   "mimetype": "text/x-python",
   "name": "python",
   "nbconvert_exporter": "python",
   "pygments_lexer": "ipython3",
   "version": "3.6.9"
  }
 },
 "nbformat": 4,
 "nbformat_minor": 4
}
