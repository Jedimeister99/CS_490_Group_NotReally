{
 "cells": [
  {
   "cell_type": "markdown",
   "metadata": {},
   "source": [
    "# Imports"
   ]
  },
  {
   "cell_type": "code",
   "execution_count": 2,
   "metadata": {},
   "outputs": [],
   "source": [
    "from cv2 import cv2\n",
    "import numpy as np\n",
    "import os"
   ]
  },
  {
   "cell_type": "code",
   "execution_count": 3,
   "metadata": {},
   "outputs": [
    {
     "name": "stdout",
     "output_type": "stream",
     "text": [
      "Image doesn't exist,.ipynb_checkpoints\n"
     ]
    }
   ],
   "source": [
    "# NOTE: Need to make this more general later...\n",
    "subSplit = \"\"\n",
    "CKfilePath = \"/home/hortonbm/github/CS_490_Group_NotReally/pytorch/Life_Age_Transformation_Synthesis/Lifespan_Code/results/females_model/test_latest/traversal\"\n",
    "for subject in os.listdir(CKfilePath):\n",
    "    \n",
    "    filename = subject\n",
    "    directoryRoute = os.path.join(CKfilePath, filename)\n",
    "    image = cv2.imread(directoryRoute)\n",
    "    \n",
    "    if(image is not None):\n",
    "        #image.shape\n",
    "    \n",
    "        original = image[0:256, 0:256]\n",
    "    \n",
    "        restImage = image[0:256, (256+12):]\n",
    "    \n",
    "        cnt = int(restImage.shape[1]/256)\n",
    "        path = \"./results/MaleBP4DImageSliceOutput/\" + subject[:-4] \n",
    "        if(not os.path.isdir(path)):\n",
    "            os.makedirs(path)\n",
    "        for i in range(cnt):\n",
    "            subImage = restImage[0:256, (i*256):((i+1)*256)]\n",
    "            cv2.imwrite(os.path.join(path, \"%s_%02d.png\"%(subject[:-4], i)),subImage)    \n",
    "    else:\n",
    "        print(\"Image doesn't exist,\" + subject)\n",
    "    \n",
    "\n",
    "#cv2.imshow(\"FULL\", image)\n",
    "#cv2.waitKey(-1)\n",
    "#cv2.destroyAllWindows()"
   ]
  },
  {
   "cell_type": "code",
   "execution_count": 12,
   "metadata": {},
   "outputs": [
    {
     "data": {
      "text/plain": [
       "(256, 17162, 3)"
      ]
     },
     "execution_count": 12,
     "metadata": {},
     "output_type": "execute_result"
    }
   ],
   "source": [
    "image.shape"
   ]
  }
 ],
 "metadata": {
  "kernelspec": {
   "display_name": "Python 3",
   "language": "python",
   "name": "python3"
  },
  "language_info": {
   "codemirror_mode": {
    "name": "ipython",
    "version": 3
   },
   "file_extension": ".py",
   "mimetype": "text/x-python",
   "name": "python",
   "nbconvert_exporter": "python",
   "pygments_lexer": "ipython3",
   "version": "3.8.5"
  }
 },
 "nbformat": 4,
 "nbformat_minor": 4
}
