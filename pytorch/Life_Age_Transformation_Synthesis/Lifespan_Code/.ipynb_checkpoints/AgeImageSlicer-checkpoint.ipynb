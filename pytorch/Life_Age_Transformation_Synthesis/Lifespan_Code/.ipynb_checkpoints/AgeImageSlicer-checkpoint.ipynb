{
 "cells": [
  {
   "cell_type": "markdown",
   "metadata": {},
   "source": [
    "# Imports"
   ]
  },
  {
   "cell_type": "code",
   "execution_count": null,
   "metadata": {},
   "outputs": [],
   "source": [
    "from cv2 import cv2\n",
    "import numpy as np"
   ]
  },
  {
   "cell_type": "code",
   "execution_count": null,
   "metadata": {},
   "outputs": [],
   "source": [
    "# NOTE: Need to make this more general later...\n",
    "filename = \"./photo4_2.png\"\n",
    "\n",
    "image = cv2.imread(filename)\n",
    "\n",
    "#cv2.imshow(\"FULL\", image)\n",
    "#cv2.waitKey(-1)\n",
    "#cv2.destroyAllWindows()\n"
   ]
  },
  {
   "cell_type": "code",
   "execution_count": null,
   "metadata": {},
   "outputs": [],
   "source": [
    "image.shape"
   ]
  },
  {
   "cell_type": "code",
   "execution_count": null,
   "metadata": {},
   "outputs": [],
   "source": [
    "original = image[0:256, 0:256]\n",
    "cv2.imshow(\"ORIG\", original)\n",
    "cv2.waitKey(-1)\n",
    "cv2.destroyAllWindows()"
   ]
  },
  {
   "cell_type": "code",
   "execution_count": null,
   "metadata": {},
   "outputs": [],
   "source": [
    "restImage = image[0:256, (256+12):]\n",
    "cv2.imshow(\"REST\", restImage)\n",
    "cv2.waitKey(-1)\n",
    "cv2.destroyAllWindows()"
   ]
  },
  {
   "cell_type": "code",
   "execution_count": null,
   "metadata": {},
   "outputs": [],
   "source": [
    "cnt = int(restImage.shape[1]/256)\n",
    "for i in range(cnt):\n",
    "    subImage = restImage[0:256, (i*256):((i+1)*256)]\n",
    "    cv2.imshow(\"SUB\", subImage)\n",
    "    cv2.waitKey(-1)\n",
    "    cv2.destroyAllWindows()\n",
    "\n",
    "    "
   ]
  },
  {
   "cell_type": "code",
   "execution_count": null,
   "metadata": {},
   "outputs": [],
   "source": []
  }
 ],
 "metadata": {
  "kernelspec": {
   "display_name": "Python 3",
   "language": "python",
   "name": "python3"
  },
  "language_info": {
   "codemirror_mode": {
    "name": "ipython",
    "version": 3
   },
   "file_extension": ".py",
   "mimetype": "text/x-python",
   "name": "python",
   "nbconvert_exporter": "python",
   "pygments_lexer": "ipython3",
   "version": "3.7.7"
  }
 },
 "nbformat": 4,
 "nbformat_minor": 4
}
