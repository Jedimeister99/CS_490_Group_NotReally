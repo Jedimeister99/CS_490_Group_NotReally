{
 "cells": [
  {
   "cell_type": "markdown",
   "metadata": {},
   "source": [
    "# Imports"
   ]
  },
  {
   "cell_type": "code",
   "execution_count": 7,
   "metadata": {},
   "outputs": [],
   "source": [
    "from cv2 import cv2\n",
    "import numpy as np\n",
    "import os"
   ]
  },
  {
   "cell_type": "code",
   "execution_count": 8,
   "metadata": {},
   "outputs": [
    {
     "name": "stdout",
     "output_type": "stream",
     "text": [
      "./photo4_2.png\n"
     ]
    }
   ],
   "source": [
    "# NOTE: Need to make this more general later...\n",
    "filename = \"photo4_2\"\n",
    "directoryRoute = os.path.join(\"./\"+filename+\".png\")\n",
    "print(directoryRoute)\n",
    "image = cv2.imread(directoryRoute)\n",
    "\n",
    "#cv2.imshow(\"FULL\", image)\n",
    "#cv2.waitKey(-1)\n",
    "#cv2.destroyAllWindows()"
   ]
  },
  {
   "cell_type": "code",
   "execution_count": 9,
   "metadata": {},
   "outputs": [
    {
     "data": {
      "text/plain": [
       "(256, 17162, 3)"
      ]
     },
     "execution_count": 9,
     "metadata": {},
     "output_type": "execute_result"
    }
   ],
   "source": [
    "image.shape"
   ]
  },
  {
   "cell_type": "code",
   "execution_count": 10,
   "metadata": {},
   "outputs": [],
   "source": [
    "original = image[0:256, 0:256]\n",
    "#cv2.imshow(\"ORIG\", original)\n",
    "#cv2.waitKey(-1)\n",
    "#cv2.destroyAllWindows()"
   ]
  },
  {
   "cell_type": "code",
   "execution_count": 11,
   "metadata": {},
   "outputs": [],
   "source": [
    "restImage = image[0:256, (256+12):]\n",
    "#cv2.imshow(\"REST\", restImage)\n",
    "#cv2.waitKey(-1)\n",
    "#cv2.destroyAllWindows()"
   ]
  },
  {
   "cell_type": "code",
   "execution_count": 12,
   "metadata": {},
   "outputs": [],
   "source": [
    "cnt = int(restImage.shape[1]/256)\n",
    "path = \"./results/ImageSlicerOutput\"\n",
    "isDir = os.path.isdir(path)\n",
    "j = 0\n",
    "#This checks if the directory already exists and makes a new one\n",
    "if(isDir):\n",
    "    while(isDir):\n",
    "        j += 1\n",
    "        path = \"./results/ImageSlicerOutput\" + str(j)\n",
    "        isDir = os.path.isdir(os.path.join(path))\n",
    "    os.mkdir(os.path.join(path))\n",
    "    \n",
    "#Put series of images in sub-directory  \n",
    "for i in range(cnt):\n",
    "    subImage = restImage[0:256, (i*256):((i+1)*256)]\n",
    "    #cv2.imshow(\"SUB\", subImage)\n",
    "    #cv2.waitKey(-1)\n",
    "    #cv2.destroyAllWindows()\n",
    "    cv2.imwrite(os.path.join(path, \"OUTPUT_%02d_%s.png\"%(i, filename)),subImage)\n",
    "\n",
    "    "
   ]
  },
  {
   "cell_type": "code",
   "execution_count": null,
   "metadata": {},
   "outputs": [],
   "source": []
  }
 ],
 "metadata": {
  "kernelspec": {
   "display_name": "Python 3",
   "language": "python",
   "name": "python3"
  },
  "language_info": {
   "codemirror_mode": {
    "name": "ipython",
    "version": 3
   },
   "file_extension": ".py",
   "mimetype": "text/x-python",
   "name": "python",
   "nbconvert_exporter": "python",
   "pygments_lexer": "ipython3",
   "version": "3.8.5"
  }
 },
 "nbformat": 4,
 "nbformat_minor": 4
}
