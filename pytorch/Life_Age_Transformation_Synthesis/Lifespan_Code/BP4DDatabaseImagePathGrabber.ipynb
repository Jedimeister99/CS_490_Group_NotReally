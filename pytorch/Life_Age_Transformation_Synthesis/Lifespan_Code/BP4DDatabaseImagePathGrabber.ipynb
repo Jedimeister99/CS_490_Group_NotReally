{
 "cells": [
  {
   "cell_type": "code",
   "execution_count": 1,
   "metadata": {},
   "outputs": [],
   "source": [
    "from cv2 import cv2\n",
    "import numpy as np\n",
    "import os"
   ]
  },
  {
   "cell_type": "code",
   "execution_count": null,
   "metadata": {},
   "outputs": [],
   "source": [
    "inputDir = \"/media/Data2/BP4D/125-wide/COLOR\"\n",
    "outputDir = \".\"\n",
    "badFilename = \"/media/Data2/BP4D/badFiles_BP4D.txt\""
   ]
  },
  {
   "cell_type": "code",
   "execution_count": null,
   "metadata": {},
   "outputs": [],
   "source": [
    "# Open bad filename\n",
    "with open(badFilename, \"r\") as badFile:\n",
    "    badFilelist = badFile.read()\n",
    "print(badFilelist) "
   ]
  },
  {
   "cell_type": "code",
   "execution_count": 12,
   "metadata": {},
   "outputs": [
    {
     "data": {
      "text/plain": [
       "0"
      ]
     },
     "execution_count": 12,
     "metadata": {},
     "output_type": "execute_result"
    }
   ],
   "source": [
    "#Open the text file\n",
    "femaleTextfile = os.path.join(outputDir, \"females_image_list.txt\")\n",
    "maleTextfile = os.path.join(outputDir, \"males_image_list.txt\")\n",
    "\n",
    "femaleFile = open(femaleTextfile, \"w\")\n",
    "maleFile = open(maleTextfile, \"w\")"
   ]
  },
  {
   "cell_type": "code",
   "execution_count": 13,
   "metadata": {},
   "outputs": [
    {
     "name": "stdout",
     "output_type": "stream",
     "text": [
      "['/media/Data2/BP4D/125-wide/COLOR/F001/T1/3318.png', '/media/Data2/BP4D/125-wide/COLOR/F001/T2/1450.png', '/media/Data2/BP4D/125-wide/COLOR/F001/T3/273.png', '/media/Data2/BP4D/125-wide/COLOR/F001/T4/1947.png', '/media/Data2/BP4D/125-wide/COLOR/F001/T5/1811.png', '/media/Data2/BP4D/125-wide/COLOR/F001/T6/493.png', '/media/Data2/BP4D/125-wide/COLOR/F001/T7/1500.png', '/media/Data2/BP4D/125-wide/COLOR/F001/T8/890.png', '/media/Data2/BP4D/125-wide/COLOR/F002/T1/1598.png', '/media/Data2/BP4D/125-wide/COLOR/F002/T2/1624.png', '/media/Data2/BP4D/125-wide/COLOR/F002/T3/251.png', '/media/Data2/BP4D/125-wide/COLOR/F002/T4/2459.png', '/media/Data2/BP4D/125-wide/COLOR/F002/T5/1273.png', '/media/Data2/BP4D/125-wide/COLOR/F002/T6/1638.png', '/media/Data2/BP4D/125-wide/COLOR/F002/T7/1668.png', '/media/Data2/BP4D/125-wide/COLOR/F002/T8/1464.png', '/media/Data2/BP4D/125-wide/COLOR/F003/T1/2093.png', '/media/Data2/BP4D/125-wide/COLOR/F003/T2/1609.png', '/media/Data2/BP4D/125-wide/COLOR/F003/T3/278.png', '/media/Data2/BP4D/125-wide/COLOR/F003/T4/1702.png', '/media/Data2/BP4D/125-wide/COLOR/F003/T5/1371.png', '/media/Data2/BP4D/125-wide/COLOR/F003/T6/211.png', '/media/Data2/BP4D/125-wide/COLOR/F003/T7/1025.png', '/media/Data2/BP4D/125-wide/COLOR/F003/T8/953.png', '/media/Data2/BP4D/125-wide/COLOR/F004/T1/1208.png', '/media/Data2/BP4D/125-wide/COLOR/F004/T2/1593.png', '/media/Data2/BP4D/125-wide/COLOR/F004/T3/281.png', '/media/Data2/BP4D/125-wide/COLOR/F004/T4/1643.png', '/media/Data2/BP4D/125-wide/COLOR/F004/T5/1313.png', '/media/Data2/BP4D/125-wide/COLOR/F004/T6/1505.png', '/media/Data2/BP4D/125-wide/COLOR/F004/T7/2440.png', '/media/Data2/BP4D/125-wide/COLOR/F004/T8/385.png', '/media/Data2/BP4D/125-wide/COLOR/F005/T1/1375.png', '/media/Data2/BP4D/125-wide/COLOR/F005/T2/1603.png', '/media/Data2/BP4D/125-wide/COLOR/F005/T3/303.png', '/media/Data2/BP4D/125-wide/COLOR/F005/T4/1727.png', '/media/Data2/BP4D/125-wide/COLOR/F005/T5/1378.png', '/media/Data2/BP4D/125-wide/COLOR/F005/T6/844.png', '/media/Data2/BP4D/125-wide/COLOR/F005/T7/1358.png', '/media/Data2/BP4D/125-wide/COLOR/F005/T8/535.png', '/media/Data2/BP4D/125-wide/COLOR/F006/T1/841.png', '/media/Data2/BP4D/125-wide/COLOR/F006/T2/1600.png', '/media/Data2/BP4D/125-wide/COLOR/F006/T3/363.png', '/media/Data2/BP4D/125-wide/COLOR/F006/T4/1364.png', '/media/Data2/BP4D/125-wide/COLOR/F006/T5/1468.png', '/media/Data2/BP4D/125-wide/COLOR/F006/T6/701.png', '/media/Data2/BP4D/125-wide/COLOR/F006/T7/1382.png', '/media/Data2/BP4D/125-wide/COLOR/F006/T8/272.png', '/media/Data2/BP4D/125-wide/COLOR/F007/T1/1123.png', '/media/Data2/BP4D/125-wide/COLOR/F007/T2/1622.png', '/media/Data2/BP4D/125-wide/COLOR/F007/T3/380.png', '/media/Data2/BP4D/125-wide/COLOR/F007/T4/1591.png', '/media/Data2/BP4D/125-wide/COLOR/F007/T5/1150.png', '/media/Data2/BP4D/125-wide/COLOR/F007/T6/873.png', '/media/Data2/BP4D/125-wide/COLOR/F007/T7/1879.png', '/media/Data2/BP4D/125-wide/COLOR/F007/T8/239.png', '/media/Data2/BP4D/125-wide/COLOR/F008/T1/1129.png', '/media/Data2/BP4D/125-wide/COLOR/F008/T2/1597.png', '/media/Data2/BP4D/125-wide/COLOR/F008/T3/303.png', '/media/Data2/BP4D/125-wide/COLOR/F008/T4/1406.png', '/media/Data2/BP4D/125-wide/COLOR/F008/T5/1017.png', '/media/Data2/BP4D/125-wide/COLOR/F008/T6/636.png', '/media/Data2/BP4D/125-wide/COLOR/F008/T7/1530.png', '/media/Data2/BP4D/125-wide/COLOR/F008/T8/556.png', '/media/Data2/BP4D/125-wide/COLOR/F009/T1/1115.png', '/media/Data2/BP4D/125-wide/COLOR/F009/T2/1628.png', '/media/Data2/BP4D/125-wide/COLOR/F009/T3/345.png', '/media/Data2/BP4D/125-wide/COLOR/F009/T4/1408.png', '/media/Data2/BP4D/125-wide/COLOR/F009/T5/1198.png', '/media/Data2/BP4D/125-wide/COLOR/F009/T6/1549.png', '/media/Data2/BP4D/125-wide/COLOR/F009/T7/2001.png', '/media/Data2/BP4D/125-wide/COLOR/F009/T8/135.png', '/media/Data2/BP4D/125-wide/COLOR/F010/T1/1005.png', '/media/Data2/BP4D/125-wide/COLOR/F010/T2/1581.png', '/media/Data2/BP4D/125-wide/COLOR/F010/T3/348.png', '/media/Data2/BP4D/125-wide/COLOR/F010/T4/1051.png', '/media/Data2/BP4D/125-wide/COLOR/F010/T5/598.png', '/media/Data2/BP4D/125-wide/COLOR/F010/T6/1538.png', '/media/Data2/BP4D/125-wide/COLOR/F010/T7/1499.png', '/media/Data2/BP4D/125-wide/COLOR/F010/T8/195.png', '/media/Data2/BP4D/125-wide/COLOR/F011/T1/853.png', '/media/Data2/BP4D/125-wide/COLOR/F011/T2/1593.png', '/media/Data2/BP4D/125-wide/COLOR/F011/T3/419.png', '/media/Data2/BP4D/125-wide/COLOR/F011/T4/1535.png', '/media/Data2/BP4D/125-wide/COLOR/F011/T5/1387.png', '/media/Data2/BP4D/125-wide/COLOR/F011/T6/1088.png', '/media/Data2/BP4D/125-wide/COLOR/F011/T7/1596.png', '/media/Data2/BP4D/125-wide/COLOR/F011/T8/419.png', '/media/Data2/BP4D/125-wide/COLOR/F012/T1/738.png', '/media/Data2/BP4D/125-wide/COLOR/F012/T2/1603.png', '/media/Data2/BP4D/125-wide/COLOR/F012/T3/393.png', '/media/Data2/BP4D/125-wide/COLOR/F012/T4/1193.png', '/media/Data2/BP4D/125-wide/COLOR/F012/T5/1287.png', '/media/Data2/BP4D/125-wide/COLOR/F012/T6/1545.png', '/media/Data2/BP4D/125-wide/COLOR/F012/T7/2069.png', '/media/Data2/BP4D/125-wide/COLOR/F012/T8/219.png', '/media/Data2/BP4D/125-wide/COLOR/F013/T1/954.png', '/media/Data2/BP4D/125-wide/COLOR/F013/T2/1596.png', '/media/Data2/BP4D/125-wide/COLOR/F013/T3/351.png', '/media/Data2/BP4D/125-wide/COLOR/F013/T4/1195.png', '/media/Data2/BP4D/125-wide/COLOR/F013/T5/1518.png', '/media/Data2/BP4D/125-wide/COLOR/F013/T6/1555.png', '/media/Data2/BP4D/125-wide/COLOR/F013/T7/2058.png', '/media/Data2/BP4D/125-wide/COLOR/F013/T8/144.png', '/media/Data2/BP4D/125-wide/COLOR/F014/T1/1209.png', '/media/Data2/BP4D/125-wide/COLOR/F014/T2/1589.png', '/media/Data2/BP4D/125-wide/COLOR/F014/T3/314.png', '/media/Data2/BP4D/125-wide/COLOR/F014/T4/772.png', '/media/Data2/BP4D/125-wide/COLOR/F014/T5/1275.png', '/media/Data2/BP4D/125-wide/COLOR/F014/T6/985.png', '/media/Data2/BP4D/125-wide/COLOR/F014/T7/1422.png', '/media/Data2/BP4D/125-wide/COLOR/F014/T8/244.png', '/media/Data2/BP4D/125-wide/COLOR/F015/T1/1691.png', '/media/Data2/BP4D/125-wide/COLOR/F015/T2/1586.png', '/media/Data2/BP4D/125-wide/COLOR/F015/T3/319.png', '/media/Data2/BP4D/125-wide/COLOR/F015/T4/2312.png', '/media/Data2/BP4D/125-wide/COLOR/F015/T5/1246.png', '/media/Data2/BP4D/125-wide/COLOR/F015/T6/1516.png', '/media/Data2/BP4D/125-wide/COLOR/F015/T7/1497.png', '/media/Data2/BP4D/125-wide/COLOR/F015/T8/163.png', '/media/Data2/BP4D/125-wide/COLOR/F016/T1/763.png', '/media/Data2/BP4D/125-wide/COLOR/F016/T2/1589.png', '/media/Data2/BP4D/125-wide/COLOR/F016/T3/316.png', '/media/Data2/BP4D/125-wide/COLOR/F016/T4/2072.png', '/media/Data2/BP4D/125-wide/COLOR/F016/T5/1256.png', '/media/Data2/BP4D/125-wide/COLOR/F016/T6/1372.png', '/media/Data2/BP4D/125-wide/COLOR/F016/T7/1417.png', '/media/Data2/BP4D/125-wide/COLOR/F016/T8/259.png', '/media/Data2/BP4D/125-wide/COLOR/F017/T1/1034.png', '/media/Data2/BP4D/125-wide/COLOR/F017/T2/1598.png', '/media/Data2/BP4D/125-wide/COLOR/F017/T3/450.png', '/media/Data2/BP4D/125-wide/COLOR/F017/T4/1367.png', '/media/Data2/BP4D/125-wide/COLOR/F017/T5/1179.png', '/media/Data2/BP4D/125-wide/COLOR/F017/T6/1346.png', '/media/Data2/BP4D/125-wide/COLOR/F017/T7/1484.png', '/media/Data2/BP4D/125-wide/COLOR/F017/T8/199.png', '/media/Data2/BP4D/125-wide/COLOR/F018/T1/1103.png', '/media/Data2/BP4D/125-wide/COLOR/F018/T2/1601.png', '/media/Data2/BP4D/125-wide/COLOR/F018/T3/280.png', '/media/Data2/BP4D/125-wide/COLOR/F018/T4/1284.png', '/media/Data2/BP4D/125-wide/COLOR/F018/T5/1558.png', '/media/Data2/BP4D/125-wide/COLOR/F018/T6/1412.png', '/media/Data2/BP4D/125-wide/COLOR/F018/T7/2356.png', '/media/Data2/BP4D/125-wide/COLOR/F018/T8/268.png', '/media/Data2/BP4D/125-wide/COLOR/F019/T1/728.png', '/media/Data2/BP4D/125-wide/COLOR/F019/T2/1593.png', '/media/Data2/BP4D/125-wide/COLOR/F019/T3/268.png', '/media/Data2/BP4D/125-wide/COLOR/F019/T4/1271.png', '/media/Data2/BP4D/125-wide/COLOR/F019/T5/1173.png', '/media/Data2/BP4D/125-wide/COLOR/F019/T6/620.png', '/media/Data2/BP4D/125-wide/COLOR/F019/T7/2033.png', '/media/Data2/BP4D/125-wide/COLOR/F019/T8/244.png', '/media/Data2/BP4D/125-wide/COLOR/F020/T1/1369.png', '/media/Data2/BP4D/125-wide/COLOR/F020/T2/1618.png', '/media/Data2/BP4D/125-wide/COLOR/F020/T3/329.png', '/media/Data2/BP4D/125-wide/COLOR/F020/T4/1264.png', '/media/Data2/BP4D/125-wide/COLOR/F020/T5/1488.png', '/media/Data2/BP4D/125-wide/COLOR/F020/T6/1459.png', '/media/Data2/BP4D/125-wide/COLOR/F020/T7/1875.png', '/media/Data2/BP4D/125-wide/COLOR/F020/T8/336.png', '/media/Data2/BP4D/125-wide/COLOR/F021/T1/534.png', '/media/Data2/BP4D/125-wide/COLOR/F021/T2/1613.png', '/media/Data2/BP4D/125-wide/COLOR/F021/T3/227.png', '/media/Data2/BP4D/125-wide/COLOR/F021/T4/1337.png', '/media/Data2/BP4D/125-wide/COLOR/F021/T5/965.png', '/media/Data2/BP4D/125-wide/COLOR/F021/T6/337.png', '/media/Data2/BP4D/125-wide/COLOR/F021/T7/1697.png', '/media/Data2/BP4D/125-wide/COLOR/F021/T8/415.png', '/media/Data2/BP4D/125-wide/COLOR/F022/T1/1816.png', '/media/Data2/BP4D/125-wide/COLOR/F022/T2/1607.png', '/media/Data2/BP4D/125-wide/COLOR/F022/T3/334.png', '/media/Data2/BP4D/125-wide/COLOR/F022/T4/1719.png', '/media/Data2/BP4D/125-wide/COLOR/F022/T5/1257.png', '/media/Data2/BP4D/125-wide/COLOR/F022/T6/354.png', '/media/Data2/BP4D/125-wide/COLOR/F022/T7/1757.png', '/media/Data2/BP4D/125-wide/COLOR/F022/T8/425.png', '/media/Data2/BP4D/125-wide/COLOR/F023/T1/669.png', '/media/Data2/BP4D/125-wide/COLOR/F023/T2/1618.png', '/media/Data2/BP4D/125-wide/COLOR/F023/T3/383.png', '/media/Data2/BP4D/125-wide/COLOR/F023/T4/1304.png', '/media/Data2/BP4D/125-wide/COLOR/F023/T5/1482.png', '/media/Data2/BP4D/125-wide/COLOR/F023/T6/1570.png', '/media/Data2/BP4D/125-wide/COLOR/F023/T7/1611.png', '/media/Data2/BP4D/125-wide/COLOR/F023/T8/409.png', '/media/Data2/BP4D/125-wide/COLOR/M001/T1/1319.png', '/media/Data2/BP4D/125-wide/COLOR/M001/T2/1645.png', '/media/Data2/BP4D/125-wide/COLOR/M001/T3/287.png', '/media/Data2/BP4D/125-wide/COLOR/M001/T4/1153.png', '/media/Data2/BP4D/125-wide/COLOR/M001/T5/989.png', '/media/Data2/BP4D/125-wide/COLOR/M001/T6/789.png', '/media/Data2/BP4D/125-wide/COLOR/M001/T7/1455.png', '/media/Data2/BP4D/125-wide/COLOR/M001/T8/386.png', '/media/Data2/BP4D/125-wide/COLOR/M002/T1/1205.png', '/media/Data2/BP4D/125-wide/COLOR/M002/T2/1626.png', '/media/Data2/BP4D/125-wide/COLOR/M002/T3/281.png', '/media/Data2/BP4D/125-wide/COLOR/M002/T4/1582.png', '/media/Data2/BP4D/125-wide/COLOR/M002/T5/1232.png', '/media/Data2/BP4D/125-wide/COLOR/M002/T6/902.png', '/media/Data2/BP4D/125-wide/COLOR/M002/T7/1516.png', '/media/Data2/BP4D/125-wide/COLOR/M002/T8/684.png', '/media/Data2/BP4D/125-wide/COLOR/M003/T1/858.png', '/media/Data2/BP4D/125-wide/COLOR/M003/T2/1594.png', '/media/Data2/BP4D/125-wide/COLOR/M003/T3/234.png', '/media/Data2/BP4D/125-wide/COLOR/M003/T4/1902.png', '/media/Data2/BP4D/125-wide/COLOR/M003/T5/1770.png', '/media/Data2/BP4D/125-wide/COLOR/M003/T6/308.png', '/media/Data2/BP4D/125-wide/COLOR/M003/T7/2156.png', '/media/Data2/BP4D/125-wide/COLOR/M003/T8/267.png', '/media/Data2/BP4D/125-wide/COLOR/M004/T1/730.png', '/media/Data2/BP4D/125-wide/COLOR/M004/T2/1584.png', '/media/Data2/BP4D/125-wide/COLOR/M004/T3/304.png', '/media/Data2/BP4D/125-wide/COLOR/M004/T4/1500.png', '/media/Data2/BP4D/125-wide/COLOR/M004/T5/862.png', '/media/Data2/BP4D/125-wide/COLOR/M004/T6/575.png', '/media/Data2/BP4D/125-wide/COLOR/M004/T7/1333.png', '/media/Data2/BP4D/125-wide/COLOR/M004/T8/218.png', '/media/Data2/BP4D/125-wide/COLOR/M005/T1/904.png', '/media/Data2/BP4D/125-wide/COLOR/M005/T2/1604.png', '/media/Data2/BP4D/125-wide/COLOR/M005/T3/235.png', '/media/Data2/BP4D/125-wide/COLOR/M005/T4/1269.png', '/media/Data2/BP4D/125-wide/COLOR/M005/T5/1283.png', '/media/Data2/BP4D/125-wide/COLOR/M005/T6/917.png', '/media/Data2/BP4D/125-wide/COLOR/M005/T7/1814.png', '/media/Data2/BP4D/125-wide/COLOR/M005/T8/90.png', '/media/Data2/BP4D/125-wide/COLOR/M006/T1/1270.png', '/media/Data2/BP4D/125-wide/COLOR/M006/T2/1596.png', '/media/Data2/BP4D/125-wide/COLOR/M006/T3/225.png', '/media/Data2/BP4D/125-wide/COLOR/M006/T4/1216.png', '/media/Data2/BP4D/125-wide/COLOR/M006/T5/1163.png', '/media/Data2/BP4D/125-wide/COLOR/M006/T6/1506.png', '/media/Data2/BP4D/125-wide/COLOR/M006/T7/1781.png', '/media/Data2/BP4D/125-wide/COLOR/M006/T8/1083.png', '/media/Data2/BP4D/125-wide/COLOR/M007/T1/781.png', '/media/Data2/BP4D/125-wide/COLOR/M007/T2/1596.png', '/media/Data2/BP4D/125-wide/COLOR/M007/T3/320.png', '/media/Data2/BP4D/125-wide/COLOR/M007/T4/1467.png', '/media/Data2/BP4D/125-wide/COLOR/M007/T5/906.png', '/media/Data2/BP4D/125-wide/COLOR/M007/T6/1513.png', '/media/Data2/BP4D/125-wide/COLOR/M007/T7/1646.png', '/media/Data2/BP4D/125-wide/COLOR/M007/T8/561.png', '/media/Data2/BP4D/125-wide/COLOR/M008/T1/635.png', '/media/Data2/BP4D/125-wide/COLOR/M008/T2/1607.png', '/media/Data2/BP4D/125-wide/COLOR/M008/T3/277.png', '/media/Data2/BP4D/125-wide/COLOR/M008/T4/2002.png', '/media/Data2/BP4D/125-wide/COLOR/M008/T5/1380.png', '/media/Data2/BP4D/125-wide/COLOR/M008/T6/1501.png', '/media/Data2/BP4D/125-wide/COLOR/M008/T7/1924.png', '/media/Data2/BP4D/125-wide/COLOR/M008/T8/111.png', '/media/Data2/BP4D/125-wide/COLOR/M009/T1/565.png', '/media/Data2/BP4D/125-wide/COLOR/M009/T2/1598.png', '/media/Data2/BP4D/125-wide/COLOR/M009/T3/214.png', '/media/Data2/BP4D/125-wide/COLOR/M009/T4/1125.png', '/media/Data2/BP4D/125-wide/COLOR/M009/T5/1362.png', '/media/Data2/BP4D/125-wide/COLOR/M009/T6/712.png', '/media/Data2/BP4D/125-wide/COLOR/M009/T7/1558.png', '/media/Data2/BP4D/125-wide/COLOR/M009/T8/135.png', '/media/Data2/BP4D/125-wide/COLOR/M010/T1/582.png', '/media/Data2/BP4D/125-wide/COLOR/M010/T2/1590.png', '/media/Data2/BP4D/125-wide/COLOR/M010/T3/311.png', '/media/Data2/BP4D/125-wide/COLOR/M010/T4/1988.png', '/media/Data2/BP4D/125-wide/COLOR/M010/T5/1341.png', '/media/Data2/BP4D/125-wide/COLOR/M010/T6/987.png', '/media/Data2/BP4D/125-wide/COLOR/M010/T7/611.png', '/media/Data2/BP4D/125-wide/COLOR/M010/T8/142.png', '/media/Data2/BP4D/125-wide/COLOR/M011/T1/1555.png', '/media/Data2/BP4D/125-wide/COLOR/M011/T2/1575.png', '/media/Data2/BP4D/125-wide/COLOR/M011/T3/294.png', '/media/Data2/BP4D/125-wide/COLOR/M011/T4/851.png', '/media/Data2/BP4D/125-wide/COLOR/M011/T5/1122.png', '/media/Data2/BP4D/125-wide/COLOR/M011/T6/1544.png', '/media/Data2/BP4D/125-wide/COLOR/M011/T7/1986.png', '/media/Data2/BP4D/125-wide/COLOR/M011/T8/256.png', '/media/Data2/BP4D/125-wide/COLOR/M012/T1/1183.png', '/media/Data2/BP4D/125-wide/COLOR/M012/T2/1601.png', '/media/Data2/BP4D/125-wide/COLOR/M012/T3/334.png', '/media/Data2/BP4D/125-wide/COLOR/M012/T4/1568.png', '/media/Data2/BP4D/125-wide/COLOR/M012/T5/1199.png', '/media/Data2/BP4D/125-wide/COLOR/M012/T6/1541.png', '/media/Data2/BP4D/125-wide/COLOR/M012/T7/2333.png', '/media/Data2/BP4D/125-wide/COLOR/M012/T8/297.png', '/media/Data2/BP4D/125-wide/COLOR/M013/T1/1162.png', '/media/Data2/BP4D/125-wide/COLOR/M013/T2/1597.png', '/media/Data2/BP4D/125-wide/COLOR/M013/T3/356.png', '/media/Data2/BP4D/125-wide/COLOR/M013/T4/1077.png', '/media/Data2/BP4D/125-wide/COLOR/M013/T5/914.png', '/media/Data2/BP4D/125-wide/COLOR/M013/T6/777.png', '/media/Data2/BP4D/125-wide/COLOR/M013/T7/2202.png', '/media/Data2/BP4D/125-wide/COLOR/M013/T8/287.png', '/media/Data2/BP4D/125-wide/COLOR/M014/T1/901.png', '/media/Data2/BP4D/125-wide/COLOR/M014/T2/1602.png', '/media/Data2/BP4D/125-wide/COLOR/M014/T3/342.png', '/media/Data2/BP4D/125-wide/COLOR/M014/T4/1464.png', '/media/Data2/BP4D/125-wide/COLOR/M014/T5/1343.png', '/media/Data2/BP4D/125-wide/COLOR/M014/T6/1472.png', '/media/Data2/BP4D/125-wide/COLOR/M014/T7/2239.png', '/media/Data2/BP4D/125-wide/COLOR/M014/T8/189.png', '/media/Data2/BP4D/125-wide/COLOR/M015/T1/1468.png', '/media/Data2/BP4D/125-wide/COLOR/M015/T2/1589.png', '/media/Data2/BP4D/125-wide/COLOR/M015/T3/335.png', '/media/Data2/BP4D/125-wide/COLOR/M015/T4/1214.png', '/media/Data2/BP4D/125-wide/COLOR/M015/T5/1428.png', '/media/Data2/BP4D/125-wide/COLOR/M015/T6/344.png', '/media/Data2/BP4D/125-wide/COLOR/M015/T7/668.png', '/media/Data2/BP4D/125-wide/COLOR/M015/T8/293.png', '/media/Data2/BP4D/125-wide/COLOR/M016/T1/1831.png', '/media/Data2/BP4D/125-wide/COLOR/M016/T2/1595.png', '/media/Data2/BP4D/125-wide/COLOR/M016/T3/351.png', '/media/Data2/BP4D/125-wide/COLOR/M016/T4/1261.png', '/media/Data2/BP4D/125-wide/COLOR/M016/T5/1228.png', '/media/Data2/BP4D/125-wide/COLOR/M016/T6/1256.png', '/media/Data2/BP4D/125-wide/COLOR/M016/T7/1409.png', '/media/Data2/BP4D/125-wide/COLOR/M016/T8/354.png', '/media/Data2/BP4D/125-wide/COLOR/M017/T1/1037.png', '/media/Data2/BP4D/125-wide/COLOR/M017/T2/1601.png', '/media/Data2/BP4D/125-wide/COLOR/M017/T3/290.png', '/media/Data2/BP4D/125-wide/COLOR/M017/T4/1155.png', '/media/Data2/BP4D/125-wide/COLOR/M017/T5/1464.png', '/media/Data2/BP4D/125-wide/COLOR/M017/T6/1527.png', '/media/Data2/BP4D/125-wide/COLOR/M017/T7/1299.png', '/media/Data2/BP4D/125-wide/COLOR/M017/T8/342.png', '/media/Data2/BP4D/125-wide/COLOR/M018/T1/1347.png', '/media/Data2/BP4D/125-wide/COLOR/M018/T2/1603.png', '/media/Data2/BP4D/125-wide/COLOR/M018/T3/324.png', '/media/Data2/BP4D/125-wide/COLOR/M018/T4/1889.png', '/media/Data2/BP4D/125-wide/COLOR/M018/T5/1648.png', '/media/Data2/BP4D/125-wide/COLOR/M018/T6/1311.png', '/media/Data2/BP4D/125-wide/COLOR/M018/T7/1908.png', '/media/Data2/BP4D/125-wide/COLOR/M018/T8/201.png']\n"
     ]
    }
   ],
   "source": [
    "#Grab all the files from BP4D\n",
    "femaleImageList = []\n",
    "maleImageList = []\n",
    "\n",
    "for subject in os.listdir(inputDir):\n",
    "    subjectPath = os.path.join(inputDir, subject)    \n",
    "    if(os.path.isdir(subjectPath)):\n",
    "        # For each subject...              \n",
    "        isMale = (subject[0] == \"M\")\n",
    "        print(subject,\"...\", isMale)        \n",
    "        \n",
    "        for seq in os.listdir(subjectPath):\n",
    "            seqPath = os.path.join(subjectPath, seq)\n",
    "            \n",
    "            if(os.path.isdir(seqPath)):\n",
    "                # For each sequence...\n",
    "                print(\"\\t\", seq)\n",
    "                \n",
    "                # For each image...\n",
    "                for image in os.listdir(os.path.join(CKfilePath, subject, seq)):\n",
    "                    if(image.endswith(\".png\")):\n",
    "                        CKtempList.append(image)\n",
    "                CKtempList.sort()\n",
    "                CKimageList.append(os.path.join(CKfilePath, subject,seq,CKtempList[-1]))\n",
    "                File_object.write(os.path.join(CKfilePath, subject,seq,CKtempList[-1]))\n",
    "                File_object.write(\"\\n\")\n",
    "print(CKimageList)       "
   ]
  },
  {
   "cell_type": "code",
   "execution_count": 14,
   "metadata": {},
   "outputs": [],
   "source": [
    "femaleFile.close()\n",
    "maleFile.close()"
   ]
  },
  {
   "cell_type": "code",
   "execution_count": 15,
   "metadata": {},
   "outputs": [
    {
     "name": "stdout",
     "output_type": "stream",
     "text": [
      "AgeImageSlicer.ipynb\t\t    Lifespan_Age_Transformation_Synthesis\r\n",
      "AgeImageSlicerOriginal.ipynb\t    males_image_backup.txt\r\n",
      "BP4DDatabaseImagePathGrabber.ipynb  males_image_list.txt\r\n",
      "checkpoints\t\t\t    models\r\n",
      "CKDatabaseImagePathGrabber.ipynb    options\r\n",
      "data\t\t\t\t    photo4_2.png\r\n",
      "datasets\t\t\t    README.md\r\n",
      "deeplab_model\t\t\t    requirements.txt\r\n",
      "download_models.py\t\t    results\r\n",
      "females_image_list.txt\t\t    run_scripts\r\n",
      "gifs\t\t\t\t    test.py\r\n",
      "LATS_demo.ipynb\t\t\t    train.py\r\n",
      "LICENSE.txt\t\t\t    util\r\n"
     ]
    }
   ],
   "source": [
    "!ls"
   ]
  },
  {
   "cell_type": "code",
   "execution_count": null,
   "metadata": {},
   "outputs": [],
   "source": []
  }
 ],
 "metadata": {
  "kernelspec": {
   "display_name": "Python 3",
   "language": "python",
   "name": "python3"
  },
  "language_info": {
   "codemirror_mode": {
    "name": "ipython",
    "version": 3
   },
   "file_extension": ".py",
   "mimetype": "text/x-python",
   "name": "python",
   "nbconvert_exporter": "python",
   "pygments_lexer": "ipython3",
   "version": "3.7.7"
  }
 },
 "nbformat": 4,
 "nbformat_minor": 4
}
