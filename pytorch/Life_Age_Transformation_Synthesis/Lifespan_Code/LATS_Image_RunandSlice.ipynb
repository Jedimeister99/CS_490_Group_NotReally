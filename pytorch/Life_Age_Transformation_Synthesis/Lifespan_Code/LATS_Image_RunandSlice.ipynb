{
 "cells": [
  {
   "cell_type": "code",
   "execution_count": null,
   "metadata": {},
   "outputs": [],
   "source": [
    "#########\n",
    "#This program runs the main GAN with the BP4D Dataset.\n",
    "########\n",
    "\n",
    "\n",
    "\n",
    "from cv2 import cv2\n",
    "import numpy as np\n",
    "import os\n",
    "import glob\n"
   ]
  },
  {
   "cell_type": "code",
   "execution_count": null,
   "metadata": {},
   "outputs": [],
   "source": [
    "inputDir = \"/media/Data2/BP4D/125-wide/COLOR\"\n",
    "outputDir = \".\"\n",
    "badFilename = \"/media/Data2/BP4D/badFiles_BP4D.txt\"\n",
    "subSplit = \"\"\n",
    "inputDirFemale = \"/home/hortonbm/github/CS_490_Group_NotReally/pytorch/Life_Age_Transformation_Synthesis/Lifespan_Code/results/females_model/test_latest/traversal/\"\n",
    "inputDirMale = \"/home/hortonbm/github/CS_490_Group_NotReally/pytorch/Life_Age_Transformation_Synthesis/Lifespan_Code/results/males_model/test_latest/traversal/\""
   ]
  },
  {
   "cell_type": "code",
   "execution_count": null,
   "metadata": {},
   "outputs": [],
   "source": [
    "# Open bad filename\n",
    "with open(badFilename, \"r\") as badFile:\n",
    "    badFilelist = badFile.read()\n",
    "print(badFilelist) "
   ]
  },
  {
   "cell_type": "code",
   "execution_count": null,
   "metadata": {},
   "outputs": [],
   "source": [
    "#Grab all the files from BP4D\n",
    "femaleImageList = []\n",
    "maleImageList = []\n",
    "\n",
    "for subject in os.listdir(inputDir):\n",
    "    subjectPath = os.path.join(inputDir, subject)    \n",
    "    if(os.path.isdir(subjectPath)):\n",
    "        # For each subject...              \n",
    "        isMale = (subject[0] == \"M\")\n",
    "        #print(subject,\"...\", isMale)        \n",
    "        \n",
    "        for seq in os.listdir(subjectPath):\n",
    "            seqPath = os.path.join(subjectPath, seq)\n",
    "            \n",
    "            \n",
    "            # Sequence _ Age\n",
    "            \n",
    "            if(os.path.isdir(seqPath)):\n",
    "                # For each sequence...\n",
    "                #print(\"\\t,\", seq)\n",
    "                \n",
    "                # For each image...\n",
    "                for image in os.listdir(seqPath):\n",
    "                    \n",
    "                    if(image.endswith(\".png\")):\n",
    "                        # Is this bad?                        \n",
    "                        testBad = subject + \"/\" + seq + \"/\" + image[:-4]\n",
    "                        #print(testBad)\n",
    "                        #print(image)\n",
    "                        \n",
    "                        if testBad not in badFilelist:\n",
    "                            # Good\n",
    "                            #print(\"\\t\\t\", os.path.join(seqPath, image))\n",
    "                            if isMale:\n",
    "                                maleImageList.append(os.path.join(seqPath, image))\n",
    "                            else:\n",
    "                                femaleImageList.append(os.path.join(seqPath, image))\n",
    "                        #else:\n",
    "                            #print(\"\\t\\t\", \"BAD FILE:\", image)\n",
    "                  \n"
   ]
  },
  {
   "cell_type": "code",
   "execution_count": null,
   "metadata": {},
   "outputs": [],
   "source": [
    "# Sort lists\n",
    "maleImageList.sort()\n",
    "femaleImageList.sort()\n",
    "femaleSubList = []\n",
    "maleSubList = []\n",
    "N = 30\n",
    "L = 30\n",
    "for k in range(0, len(femaleImageList), N):\n",
    "       femaleSubList.append(femaleImageList[k])\n",
    "print(\"FEMALES:\")\n",
    "print(femaleSubList)\n",
    "\n",
    "for k in range(0, len(maleImageList), L):\n",
    "       maleSubList.append(maleImageList[k])\n",
    "print(\"MALES:\")\n",
    "print(maleSubList)\n"
   ]
  },
  {
   "cell_type": "code",
   "execution_count": null,
   "metadata": {},
   "outputs": [],
   "source": [
    "########\n",
    "# This chunk of code runs the LATS GAN on every single female image in the BP4D dataset\n",
    "# And slices the resulting images into chunks in the same directory storage as BP4D\n",
    "########\n",
    "with open(os.path.join(outputDir, \"females_image_list.txt\"), \"w\") as femaleFile:\n",
    "    for image in femaleSubList:\n",
    "        files = glob.glob(inputDirFemale + \"*\")\n",
    "        for f in files:\n",
    "            os.remove(f)\n",
    "        femaleFile = open(os.path.join(outputDir, \"females_image_list.txt\"), \"w\") \n",
    "        femaleFile.truncate(0)\n",
    "        femaleFile.write(image)\n",
    "        print(os.path.join(outputDir, \"females_image_list.txt\"))\n",
    "        femaleFile.close()\n",
    "        !./run_scripts/in_the_wild_female.sh\n",
    "        \n",
    "        \n",
    "        for subject in os.listdir(inputDirFemale):\n",
    "            #print(subject)\n",
    "            filename = subject\n",
    "            directoryRoute = os.path.join(inputDirFemale, filename)\n",
    "            \n",
    "            actualImage = cv2.imread(directoryRoute)\n",
    "    \n",
    "            if(actualImage is not None):\n",
    "            #image.shape\n",
    "    \n",
    "                original = actualImage[0:256, 0:256]\n",
    "    \n",
    "                restImage = actualImage[0:256, (256+12):]\n",
    "    \n",
    "                cnt = int(restImage.shape[1]/256)\n",
    "                path = \"./results/FemaleBP4DImageSliceOutput/\"+ image[-16:-4] +\"/\"\n",
    "                result = path.endswith('/')\n",
    "                if(result == False):\n",
    "                    path = path + '/'\n",
    "                if(not os.path.isdir(path)):\n",
    "                    os.makedirs(path)\n",
    "                for i in range(cnt):\n",
    "                    subImage = restImage[0:256, (i*256):((i+1)*256)]\n",
    "                    cv2.imwrite(os.path.join(path, \"%s_%02d.png\"%(subject[:-4], i)),subImage)    \n",
    "            else:\n",
    "                print(\"Image doesn't exist,\" + subject)\n",
    "            \n",
    "        \n",
    "        "
   ]
  },
  {
   "cell_type": "code",
   "execution_count": null,
   "metadata": {},
   "outputs": [],
   "source": [
    "########\n",
    "# This chunk of code runs the LATS GAN on every single male image in the BP4D dataset\n",
    "# And slices the resulting images into chunks in the same directory storage as BP4D\n",
    "########\n",
    "with open(os.path.join(outputDir, \"males_image_list.txt\"), \"w\") as maleFile:\n",
    "    for image in maleSubList:\n",
    "        files = glob.glob(inputDirMale + \"*\")\n",
    "        for f in files:\n",
    "            os.remove(f)\n",
    "        maleFile = open(os.path.join(outputDir, \"males_image_list.txt\"), \"w\") \n",
    "        maleFile.truncate(0)\n",
    "        maleFile.write(image)\n",
    "        print(os.path.join(outputDir, \"males_image_list.txt\"))\n",
    "        maleFile.close()\n",
    "        !./run_scripts/in_the_wild_male.sh\n",
    "        \n",
    "        \n",
    "        for subject in os.listdir(inputDirMale):\n",
    "            #print(subject)\n",
    "            filename = subject\n",
    "            directoryRoute = os.path.join(inputDirMale, filename)\n",
    "            \n",
    "            actualImage = cv2.imread(directoryRoute)\n",
    "    \n",
    "            if(actualImage is not None):\n",
    "            #image.shape\n",
    "    \n",
    "                original = actualImage[0:256, 0:256]\n",
    "    \n",
    "                restImage = actualImage[0:256, (256+12):]\n",
    "    \n",
    "                cnt = int(restImage.shape[1]/256)\n",
    "                path = \"./results/MaleBP4DImageSliceOutput/\"+ image[-16:-4] +\"/\"\n",
    "                result = path.endswith('/')\n",
    "                if(result == False):\n",
    "                    path = path + '/'\n",
    "                if(not os.path.isdir(path)):\n",
    "                    os.makedirs(path)\n",
    "                for i in range(cnt):\n",
    "                    subImage = restImage[0:256, (i*256):((i+1)*256)]\n",
    "                    cv2.imwrite(os.path.join(path, \"%s_%02d.png\"%(subject[:-4], i)),subImage)    \n",
    "            else:\n",
    "                print(\"Image doesn't exist,\" + subject)"
   ]
  },
  {
   "cell_type": "code",
   "execution_count": null,
   "metadata": {},
   "outputs": [],
   "source": [
    "!ls"
   ]
  },
  {
   "cell_type": "code",
   "execution_count": null,
   "metadata": {},
   "outputs": [],
   "source": [
    "!cat males_image_list.txt"
   ]
  },
  {
   "cell_type": "code",
   "execution_count": null,
   "metadata": {},
   "outputs": [],
   "source": [
    "!cat females_image_list.txt"
   ]
  },
  {
   "cell_type": "code",
   "execution_count": null,
   "metadata": {},
   "outputs": [],
   "source": [
    "for i in range(5):\n",
    "    print(i)\n",
    "    !ls"
   ]
  },
  {
   "cell_type": "code",
   "execution_count": null,
   "metadata": {},
   "outputs": [],
   "source": []
  }
 ],
 "metadata": {
  "kernelspec": {
   "display_name": "Python 3",
   "language": "python",
   "name": "python3"
  },
  "language_info": {
   "codemirror_mode": {
    "name": "ipython",
    "version": 3
   },
   "file_extension": ".py",
   "mimetype": "text/x-python",
   "name": "python",
   "nbconvert_exporter": "python",
   "pygments_lexer": "ipython3",
   "version": "3.8.5"
  }
 },
 "nbformat": 4,
 "nbformat_minor": 4
}
